{
 "cells": [
  {
   "cell_type": "code",
   "execution_count": 1,
   "metadata": {
    "colab": {
     "base_uri": "https://localhost:8080/"
    },
    "id": "-BmZRTCKafjC",
    "outputId": "e1b97163-95fb-4970-925c-816b0b15d8af",
    "scrolled": true
   },
   "outputs": [
    {
     "name": "stdout",
     "output_type": "stream",
     "text": [
      "Collecting kaggle\n",
      "  Downloading kaggle-1.5.12.tar.gz (58 kB)\n",
      "Requirement already satisfied: six>=1.10 in c:\\users\\yash\\anaconda3\\lib\\site-packages (from kaggle) (1.15.0)\n",
      "Requirement already satisfied: certifi in c:\\users\\yash\\anaconda3\\lib\\site-packages (from kaggle) (2020.12.5)\n",
      "Requirement already satisfied: python-dateutil in c:\\users\\yash\\anaconda3\\lib\\site-packages (from kaggle) (2.8.1)\n",
      "Requirement already satisfied: requests in c:\\users\\yash\\anaconda3\\lib\\site-packages (from kaggle) (2.25.1)\n",
      "Requirement already satisfied: tqdm in c:\\users\\yash\\anaconda3\\lib\\site-packages (from kaggle) (4.47.0)\n",
      "Collecting python-slugify\n",
      "  Downloading python_slugify-5.0.2-py2.py3-none-any.whl (6.7 kB)\n",
      "Requirement already satisfied: urllib3 in c:\\users\\yash\\anaconda3\\lib\\site-packages (from kaggle) (1.25.9)\n",
      "Requirement already satisfied: chardet<5,>=3.0.2 in c:\\users\\yash\\anaconda3\\lib\\site-packages (from requests->kaggle) (4.0.0)\n",
      "Requirement already satisfied: idna<3,>=2.5 in c:\\users\\yash\\anaconda3\\lib\\site-packages (from requests->kaggle) (2.10)\n",
      "Collecting text-unidecode>=1.3\n",
      "  Downloading text_unidecode-1.3-py2.py3-none-any.whl (78 kB)\n",
      "Building wheels for collected packages: kaggle\n",
      "  Building wheel for kaggle (setup.py): started\n",
      "  Building wheel for kaggle (setup.py): finished with status 'done'\n",
      "  Created wheel for kaggle: filename=kaggle-1.5.12-py3-none-any.whl size=73053 sha256=96917c6cd182a5aaa5fa447ed564d4feac48c4c2111d1c0cce800ff2de2cd483\n",
      "  Stored in directory: c:\\users\\yash\\appdata\\local\\pip\\cache\\wheels\\29\\da\\11\\144cc25aebdaeb4931b231e25fd34b394e6a5725cbb2f50106\n",
      "Successfully built kaggle\n",
      "Installing collected packages: text-unidecode, python-slugify, kaggle\n",
      "Successfully installed kaggle-1.5.12 python-slugify-5.0.2 text-unidecode-1.3\n",
      "Note: you may need to restart the kernel to use updated packages.\n"
     ]
    }
   ],
   "source": [
    "pip install kaggle"
   ]
  },
  {
   "cell_type": "code",
   "execution_count": 5,
   "metadata": {},
   "outputs": [],
   "source": [
    "import opendatasets as od"
   ]
  },
  {
   "cell_type": "markdown",
   "metadata": {
    "id": "rZ7XW4PdeKg6"
   },
   "source": [
    "## **Importing Libraries**"
   ]
  },
  {
   "cell_type": "code",
   "execution_count": 1,
   "metadata": {
    "id": "1fE5GvqBczj6"
   },
   "outputs": [],
   "source": [
    "import pandas as pd\n",
    "import numpy as np\n",
    "import matplotlib.pyplot as plt\n",
    "import seaborn as sns\n",
    "from time import time\n",
    "import joblib\n",
    "import pprint\n",
    "import random\n",
    "import warnings\n",
    "warnings.filterwarnings('ignore')"
   ]
  },
  {
   "cell_type": "code",
   "execution_count": 2,
   "metadata": {
    "id": "5ArZe45pe5WX"
   },
   "outputs": [],
   "source": [
    "from functools import partial"
   ]
  },
  {
   "cell_type": "code",
   "execution_count": 3,
   "metadata": {
    "colab": {
     "base_uri": "https://localhost:8080/"
    },
    "id": "NljhwJmmfeGq",
    "outputId": "27a2ef1e-8759-4b3f-dffd-ec653277b390"
   },
   "outputs": [
    {
     "name": "stdout",
     "output_type": "stream",
     "text": [
      "Requirement already satisfied: BorutaShap in c:\\users\\yash\\anaconda3\\lib\\site-packages (1.0.16)\n",
      "Requirement already satisfied: tqdm in c:\\users\\yash\\anaconda3\\lib\\site-packages (from BorutaShap) (4.47.0)\n",
      "Requirement already satisfied: scikit-learn in c:\\users\\yash\\anaconda3\\lib\\site-packages (from BorutaShap) (0.23.1)\n",
      "Requirement already satisfied: pandas in c:\\users\\yash\\anaconda3\\lib\\site-packages (from BorutaShap) (1.0.5)\n",
      "Requirement already satisfied: matplotlib in c:\\users\\yash\\anaconda3\\lib\\site-packages (from BorutaShap) (3.2.2)\n",
      "Requirement already satisfied: scipy in c:\\users\\yash\\anaconda3\\lib\\site-packages (from BorutaShap) (1.5.0)\n",
      "Requirement already satisfied: statsmodels in c:\\users\\yash\\anaconda3\\lib\\site-packages (from BorutaShap) (0.11.1)\n",
      "Requirement already satisfied: seaborn in c:\\users\\yash\\anaconda3\\lib\\site-packages (from BorutaShap) (0.10.1)\n",
      "Requirement already satisfied: numpy in c:\\users\\yash\\anaconda3\\lib\\site-packages (from BorutaShap) (1.19.5)\n",
      "Requirement already satisfied: shap>=0.34.0 in c:\\users\\yash\\anaconda3\\lib\\site-packages (from BorutaShap) (0.40.0)\n",
      "Requirement already satisfied: threadpoolctl>=2.0.0 in c:\\users\\yash\\anaconda3\\lib\\site-packages (from scikit-learn->BorutaShap) (2.1.0)\n",
      "Requirement already satisfied: joblib>=0.11 in c:\\users\\yash\\anaconda3\\lib\\site-packages (from scikit-learn->BorutaShap) (0.16.0)\n",
      "Requirement already satisfied: python-dateutil>=2.6.1 in c:\\users\\yash\\anaconda3\\lib\\site-packages (from pandas->BorutaShap) (2.8.1)\n",
      "Requirement already satisfied: pytz>=2017.2 in c:\\users\\yash\\anaconda3\\lib\\site-packages (from pandas->BorutaShap) (2020.1)\n",
      "Requirement already satisfied: pyparsing!=2.0.4,!=2.1.2,!=2.1.6,>=2.0.1 in c:\\users\\yash\\anaconda3\\lib\\site-packages (from matplotlib->BorutaShap) (2.4.7)\n",
      "Requirement already satisfied: cycler>=0.10 in c:\\users\\yash\\anaconda3\\lib\\site-packages (from matplotlib->BorutaShap) (0.10.0)\n",
      "Requirement already satisfied: kiwisolver>=1.0.1 in c:\\users\\yash\\anaconda3\\lib\\site-packages (from matplotlib->BorutaShap) (1.3.1)\n",
      "Requirement already satisfied: patsy>=0.5 in c:\\users\\yash\\anaconda3\\lib\\site-packages (from statsmodels->BorutaShap) (0.5.1)\n",
      "Requirement already satisfied: numba in c:\\users\\yash\\anaconda3\\lib\\site-packages (from shap>=0.34.0->BorutaShap) (0.50.1)\n",
      "Requirement already satisfied: cloudpickle in c:\\users\\yash\\anaconda3\\lib\\site-packages (from shap>=0.34.0->BorutaShap) (1.5.0)\n",
      "Requirement already satisfied: slicer==0.0.7 in c:\\users\\yash\\anaconda3\\lib\\site-packages (from shap>=0.34.0->BorutaShap) (0.0.7)\n",
      "Requirement already satisfied: packaging>20.9 in c:\\users\\yash\\anaconda3\\lib\\site-packages (from shap>=0.34.0->BorutaShap) (21.2)\n",
      "Requirement already satisfied: six>=1.5 in c:\\users\\yash\\anaconda3\\lib\\site-packages (from python-dateutil>=2.6.1->pandas->BorutaShap) (1.15.0)\n",
      "Requirement already satisfied: llvmlite<0.34,>=0.33.0.dev0 in c:\\users\\yash\\anaconda3\\lib\\site-packages (from numba->shap>=0.34.0->BorutaShap) (0.33.0+1.g022ab0f)\n",
      "Requirement already satisfied: setuptools in c:\\users\\yash\\anaconda3\\lib\\site-packages (from numba->shap>=0.34.0->BorutaShap) (49.2.0.post20200714)\n",
      "Note: you may need to restart the kernel to use updated packages.\n"
     ]
    }
   ],
   "source": [
    "pip install BorutaShap"
   ]
  },
  {
   "cell_type": "markdown",
   "metadata": {
    "id": "Ly9tqOQZfqK2"
   },
   "source": [
    "[link text](https://medium.com/analytics-vidhya/is-this-the-best-feature-selection-algorithm-borutashap-8bc238aa1677) The complete explaination of BorutaShap is given in this article"
   ]
  },
  {
   "cell_type": "markdown",
   "metadata": {
    "id": "pLD0GsJzn-SY"
   },
   "source": [
    "## **To reduce memory usage so the system can operate smoothly**"
   ]
  },
  {
   "cell_type": "code",
   "execution_count": 4,
   "metadata": {
    "id": "oY43bc5ngpO_"
   },
   "outputs": [],
   "source": [
    "# Derived from the original script https://www.kaggle.com/gemartin/load-data-reduce-memory-usage  # by Guillaume Martin  \n",
    "def reduce_mem_usage(df, verbose=True):     \n",
    "  numerics = ['int16', 'int32', 'int64', 'float16', 'float32', 'float64']     \n",
    "  start_mem = df.memory_usage().sum() / 1024**2         \n",
    "  for col in df.columns:         \n",
    "    col_type = df[col].dtypes         \n",
    "    if col_type in numerics:             \n",
    "      c_min = df[col].min()             \n",
    "      c_max = df[col].max()             \n",
    "      if str(col_type)[:3] == 'int':                 \n",
    "        if c_min > np.iinfo(np.int8).min and c_max < np.iinfo(np.int8).max:                     \n",
    "          df[col] = df[col].astype(np.int8)                 \n",
    "        elif c_min > np.iinfo(np.int16).min and c_max < np.iinfo(np.int16).max:                     \n",
    "          df[col] = df[col].astype(np.int16)                 \n",
    "        elif c_min > np.iinfo(np.int32).min and c_max < np.iinfo(np.int32).max:                     \n",
    "          df[col] = df[col].astype(np.int32)                 \n",
    "        elif c_min > np.iinfo(np.int64).min and c_max < np.iinfo(np.int64).max:                     \n",
    "          df[col] = df[col].astype(np.int64)               \n",
    "      else:                 \n",
    "        if c_min > np.finfo(np.float32).min and c_max < np.finfo(np.float32).max:                     \n",
    "          df[col] = df[col].astype(np.float32)                 \n",
    "        else:                     \n",
    "          df[col] = df[col].astype(np.float64)         \n",
    "  end_mem = df.memory_usage().sum() / 1024**2     \n",
    "  if verbose: print('Mem. usage decreased to {:5.2f} Mb ({:.1f}% reduction)'.format(end_mem, 100 * (start_mem - end_mem) / start_mem))    \n",
    "  return df"
   ]
  },
  {
   "cell_type": "markdown",
   "metadata": {
    "id": "jIrOQbKLqhzY"
   },
   "source": [
    "## **Importing the dataset**"
   ]
  },
  {
   "cell_type": "code",
   "execution_count": 5,
   "metadata": {
    "id": "eXnSNtZGqpuk",
    "scrolled": true
   },
   "outputs": [],
   "source": [
    "data_train = pd.read_csv(r'C:\\Users\\Yash\\Downloads\\tabular-playground-series-nov-2021\\train.csv', index_col='id')"
   ]
  },
  {
   "cell_type": "code",
   "execution_count": 127,
   "metadata": {
    "id": "Ne5eDi2Frs5_"
   },
   "outputs": [],
   "source": [
    "data_test = pd.read_csv(r'C:\\Users\\Yash\\Downloads\\tabular-playground-series-nov-2021\\test.csv')"
   ]
  },
  {
   "cell_type": "code",
   "execution_count": 128,
   "metadata": {},
   "outputs": [
    {
     "data": {
      "text/html": [
       "<div>\n",
       "<style scoped>\n",
       "    .dataframe tbody tr th:only-of-type {\n",
       "        vertical-align: middle;\n",
       "    }\n",
       "\n",
       "    .dataframe tbody tr th {\n",
       "        vertical-align: top;\n",
       "    }\n",
       "\n",
       "    .dataframe thead th {\n",
       "        text-align: right;\n",
       "    }\n",
       "</style>\n",
       "<table border=\"1\" class=\"dataframe\">\n",
       "  <thead>\n",
       "    <tr style=\"text-align: right;\">\n",
       "      <th></th>\n",
       "      <th>id</th>\n",
       "      <th>f0</th>\n",
       "      <th>f1</th>\n",
       "      <th>f2</th>\n",
       "      <th>f3</th>\n",
       "      <th>f4</th>\n",
       "      <th>f5</th>\n",
       "      <th>f6</th>\n",
       "      <th>f7</th>\n",
       "      <th>f8</th>\n",
       "      <th>...</th>\n",
       "      <th>f90</th>\n",
       "      <th>f91</th>\n",
       "      <th>f92</th>\n",
       "      <th>f93</th>\n",
       "      <th>f94</th>\n",
       "      <th>f95</th>\n",
       "      <th>f96</th>\n",
       "      <th>f97</th>\n",
       "      <th>f98</th>\n",
       "      <th>f99</th>\n",
       "    </tr>\n",
       "  </thead>\n",
       "  <tbody>\n",
       "    <tr>\n",
       "      <th>0</th>\n",
       "      <td>600000</td>\n",
       "      <td>0.003229</td>\n",
       "      <td>4.838660</td>\n",
       "      <td>585.529</td>\n",
       "      <td>2.282910</td>\n",
       "      <td>0.713180</td>\n",
       "      <td>3.907830</td>\n",
       "      <td>0.480696</td>\n",
       "      <td>1.482270</td>\n",
       "      <td>4.891810</td>\n",
       "      <td>...</td>\n",
       "      <td>0.112910</td>\n",
       "      <td>1.073550</td>\n",
       "      <td>0.122149</td>\n",
       "      <td>0.086330</td>\n",
       "      <td>0.036010</td>\n",
       "      <td>0.010619</td>\n",
       "      <td>0.290343</td>\n",
       "      <td>1.898200</td>\n",
       "      <td>0.131533</td>\n",
       "      <td>0.012047</td>\n",
       "    </tr>\n",
       "    <tr>\n",
       "      <th>1</th>\n",
       "      <td>600001</td>\n",
       "      <td>0.008602</td>\n",
       "      <td>0.505536</td>\n",
       "      <td>-100.099</td>\n",
       "      <td>3.012670</td>\n",
       "      <td>0.027199</td>\n",
       "      <td>1.194610</td>\n",
       "      <td>5.036620</td>\n",
       "      <td>2.517440</td>\n",
       "      <td>4.553890</td>\n",
       "      <td>...</td>\n",
       "      <td>-0.020214</td>\n",
       "      <td>2.622340</td>\n",
       "      <td>0.123307</td>\n",
       "      <td>0.033063</td>\n",
       "      <td>0.123059</td>\n",
       "      <td>0.005771</td>\n",
       "      <td>-0.392923</td>\n",
       "      <td>3.689640</td>\n",
       "      <td>0.047418</td>\n",
       "      <td>0.120015</td>\n",
       "    </tr>\n",
       "    <tr>\n",
       "      <th>2</th>\n",
       "      <td>600002</td>\n",
       "      <td>1.461000</td>\n",
       "      <td>2.437260</td>\n",
       "      <td>-112.964</td>\n",
       "      <td>3.541230</td>\n",
       "      <td>0.752338</td>\n",
       "      <td>4.338310</td>\n",
       "      <td>1.648080</td>\n",
       "      <td>4.699910</td>\n",
       "      <td>1.950250</td>\n",
       "      <td>...</td>\n",
       "      <td>-0.011036</td>\n",
       "      <td>2.030180</td>\n",
       "      <td>-0.000426</td>\n",
       "      <td>0.084091</td>\n",
       "      <td>0.123605</td>\n",
       "      <td>0.499554</td>\n",
       "      <td>4.054650</td>\n",
       "      <td>3.330670</td>\n",
       "      <td>0.108843</td>\n",
       "      <td>0.064687</td>\n",
       "    </tr>\n",
       "    <tr>\n",
       "      <th>3</th>\n",
       "      <td>600003</td>\n",
       "      <td>0.140556</td>\n",
       "      <td>3.085610</td>\n",
       "      <td>179.451</td>\n",
       "      <td>0.573945</td>\n",
       "      <td>0.057342</td>\n",
       "      <td>2.216790</td>\n",
       "      <td>1.623480</td>\n",
       "      <td>0.526174</td>\n",
       "      <td>1.542540</td>\n",
       "      <td>...</td>\n",
       "      <td>0.050117</td>\n",
       "      <td>0.221613</td>\n",
       "      <td>0.045298</td>\n",
       "      <td>0.129966</td>\n",
       "      <td>0.004015</td>\n",
       "      <td>0.018279</td>\n",
       "      <td>2.696580</td>\n",
       "      <td>-0.533491</td>\n",
       "      <td>0.052524</td>\n",
       "      <td>0.011058</td>\n",
       "    </tr>\n",
       "    <tr>\n",
       "      <th>4</th>\n",
       "      <td>600004</td>\n",
       "      <td>0.128876</td>\n",
       "      <td>5.199760</td>\n",
       "      <td>107.466</td>\n",
       "      <td>-0.497149</td>\n",
       "      <td>0.080220</td>\n",
       "      <td>0.458121</td>\n",
       "      <td>0.629839</td>\n",
       "      <td>5.240460</td>\n",
       "      <td>-0.232279</td>\n",
       "      <td>...</td>\n",
       "      <td>0.058860</td>\n",
       "      <td>2.660430</td>\n",
       "      <td>0.135425</td>\n",
       "      <td>0.036481</td>\n",
       "      <td>0.093912</td>\n",
       "      <td>0.056315</td>\n",
       "      <td>1.110710</td>\n",
       "      <td>3.584470</td>\n",
       "      <td>0.145319</td>\n",
       "      <td>-0.050393</td>\n",
       "    </tr>\n",
       "  </tbody>\n",
       "</table>\n",
       "<p>5 rows × 101 columns</p>\n",
       "</div>"
      ],
      "text/plain": [
       "       id        f0        f1       f2        f3        f4        f5  \\\n",
       "0  600000  0.003229  4.838660  585.529  2.282910  0.713180  3.907830   \n",
       "1  600001  0.008602  0.505536 -100.099  3.012670  0.027199  1.194610   \n",
       "2  600002  1.461000  2.437260 -112.964  3.541230  0.752338  4.338310   \n",
       "3  600003  0.140556  3.085610  179.451  0.573945  0.057342  2.216790   \n",
       "4  600004  0.128876  5.199760  107.466 -0.497149  0.080220  0.458121   \n",
       "\n",
       "         f6        f7        f8  ...       f90       f91       f92       f93  \\\n",
       "0  0.480696  1.482270  4.891810  ...  0.112910  1.073550  0.122149  0.086330   \n",
       "1  5.036620  2.517440  4.553890  ... -0.020214  2.622340  0.123307  0.033063   \n",
       "2  1.648080  4.699910  1.950250  ... -0.011036  2.030180 -0.000426  0.084091   \n",
       "3  1.623480  0.526174  1.542540  ...  0.050117  0.221613  0.045298  0.129966   \n",
       "4  0.629839  5.240460 -0.232279  ...  0.058860  2.660430  0.135425  0.036481   \n",
       "\n",
       "        f94       f95       f96       f97       f98       f99  \n",
       "0  0.036010  0.010619  0.290343  1.898200  0.131533  0.012047  \n",
       "1  0.123059  0.005771 -0.392923  3.689640  0.047418  0.120015  \n",
       "2  0.123605  0.499554  4.054650  3.330670  0.108843  0.064687  \n",
       "3  0.004015  0.018279  2.696580 -0.533491  0.052524  0.011058  \n",
       "4  0.093912  0.056315  1.110710  3.584470  0.145319 -0.050393  \n",
       "\n",
       "[5 rows x 101 columns]"
      ]
     },
     "execution_count": 128,
     "metadata": {},
     "output_type": "execute_result"
    }
   ],
   "source": [
    "data_test.head()"
   ]
  },
  {
   "cell_type": "code",
   "execution_count": 115,
   "metadata": {},
   "outputs": [
    {
     "data": {
      "text/plain": [
       "(540000, 100)"
      ]
     },
     "execution_count": 115,
     "metadata": {},
     "output_type": "execute_result"
    }
   ],
   "source": [
    "data_test.shape"
   ]
  },
  {
   "cell_type": "code",
   "execution_count": null,
   "metadata": {},
   "outputs": [],
   "source": []
  },
  {
   "cell_type": "markdown",
   "metadata": {
    "id": "DOqwDW7SujiI"
   },
   "source": [
    "## **Exploratory Data Analysis(EDA)**"
   ]
  },
  {
   "cell_type": "code",
   "execution_count": 7,
   "metadata": {
    "colab": {
     "base_uri": "https://localhost:8080/"
    },
    "id": "iCErQuVrupuC",
    "outputId": "c5f4e2d0-f670-4c51-a748-3e40cb385507",
    "scrolled": true
   },
   "outputs": [
    {
     "data": {
      "text/plain": [
       "(600000, 101)"
      ]
     },
     "execution_count": 7,
     "metadata": {},
     "output_type": "execute_result"
    }
   ],
   "source": [
    "data_train.shape"
   ]
  },
  {
   "cell_type": "code",
   "execution_count": 8,
   "metadata": {
    "colab": {
     "base_uri": "https://localhost:8080/"
    },
    "id": "dWIVhzYNuuMZ",
    "outputId": "679d1153-3635-4bd3-f878-ebb555274761"
   },
   "outputs": [
    {
     "data": {
      "text/plain": [
       "array([0, 0, 0, 0, 0, 0, 0, 0, 0, 0, 0, 0, 0, 0, 0, 0, 0, 0, 0, 0, 0, 0,\n",
       "       0, 0, 0, 0, 0, 0, 0, 0, 0, 0, 0, 0, 0, 0, 0, 0, 0, 0, 0, 0, 0, 0,\n",
       "       0, 0, 0, 0, 0, 0, 0, 0, 0, 0, 0, 0, 0, 0, 0, 0, 0, 0, 0, 0, 0, 0,\n",
       "       0, 0, 0, 0, 0, 0, 0, 0, 0, 0, 0, 0, 0, 0, 0, 0, 0, 0, 0, 0, 0, 0,\n",
       "       0, 0, 0, 0, 0, 0, 0, 0, 0, 0, 0, 0, 0], dtype=int64)"
      ]
     },
     "execution_count": 8,
     "metadata": {},
     "output_type": "execute_result"
    }
   ],
   "source": [
    "data_train.isnull().sum().values"
   ]
  },
  {
   "cell_type": "code",
   "execution_count": 9,
   "metadata": {
    "colab": {
     "base_uri": "https://localhost:8080/"
    },
    "id": "amqiYq5lvDMh",
    "outputId": "0baf4f49-c6b6-485f-f365-a3b66eea9281"
   },
   "outputs": [
    {
     "data": {
      "text/plain": [
       "array([dtype('float64'), dtype('float64'), dtype('float64'),\n",
       "       dtype('float64'), dtype('float64'), dtype('float64'),\n",
       "       dtype('float64'), dtype('float64'), dtype('float64'),\n",
       "       dtype('float64'), dtype('float64'), dtype('float64'),\n",
       "       dtype('float64'), dtype('float64'), dtype('float64'),\n",
       "       dtype('float64'), dtype('float64'), dtype('float64'),\n",
       "       dtype('float64'), dtype('float64'), dtype('float64'),\n",
       "       dtype('float64'), dtype('float64'), dtype('float64'),\n",
       "       dtype('float64'), dtype('float64'), dtype('float64'),\n",
       "       dtype('float64'), dtype('float64'), dtype('float64'),\n",
       "       dtype('float64'), dtype('float64'), dtype('float64'),\n",
       "       dtype('float64'), dtype('float64'), dtype('float64'),\n",
       "       dtype('float64'), dtype('float64'), dtype('float64'),\n",
       "       dtype('float64'), dtype('float64'), dtype('float64'),\n",
       "       dtype('float64'), dtype('float64'), dtype('float64'),\n",
       "       dtype('float64'), dtype('float64'), dtype('float64'),\n",
       "       dtype('float64'), dtype('float64'), dtype('float64'),\n",
       "       dtype('float64'), dtype('float64'), dtype('float64'),\n",
       "       dtype('float64'), dtype('float64'), dtype('float64'),\n",
       "       dtype('float64'), dtype('float64'), dtype('float64'),\n",
       "       dtype('float64'), dtype('float64'), dtype('float64'),\n",
       "       dtype('float64'), dtype('float64'), dtype('float64'),\n",
       "       dtype('float64'), dtype('float64'), dtype('float64'),\n",
       "       dtype('float64'), dtype('float64'), dtype('float64'),\n",
       "       dtype('float64'), dtype('float64'), dtype('float64'),\n",
       "       dtype('float64'), dtype('float64'), dtype('float64'),\n",
       "       dtype('float64'), dtype('float64'), dtype('float64'),\n",
       "       dtype('float64'), dtype('float64'), dtype('float64'),\n",
       "       dtype('float64'), dtype('float64'), dtype('float64'),\n",
       "       dtype('float64'), dtype('float64'), dtype('float64'),\n",
       "       dtype('float64'), dtype('float64'), dtype('float64'),\n",
       "       dtype('float64'), dtype('float64'), dtype('float64'),\n",
       "       dtype('float64'), dtype('float64'), dtype('float64'),\n",
       "       dtype('float64'), dtype('int64')], dtype=object)"
      ]
     },
     "execution_count": 9,
     "metadata": {},
     "output_type": "execute_result"
    }
   ],
   "source": [
    "data_train.dtypes.values"
   ]
  },
  {
   "cell_type": "code",
   "execution_count": 10,
   "metadata": {
    "colab": {
     "base_uri": "https://localhost:8080/"
    },
    "id": "7yh6_JtAvYin",
    "outputId": "c5977adf-db00-4c87-cbb4-30346a154927",
    "scrolled": true
   },
   "outputs": [
    {
     "data": {
      "text/plain": [
       "array([516483, 409963, 485459, 398271, 502075, 408826, 401451, 403969,\n",
       "       403082, 489350, 411710, 395261, 487380, 403995, 390511, 399560,\n",
       "       503836, 415890, 408418, 472472, 477361, 463788, 405890, 494695,\n",
       "       500666, 410697, 412946, 468021, 461373, 405261, 497147, 503328,\n",
       "       497622, 473584, 410986, 489939, 470902, 405523, 419247, 514374,\n",
       "       404915, 402568, 482157, 413581, 462319, 403338, 473883, 400176,\n",
       "       494814, 503783, 411925, 479453, 489656, 482749, 408755, 397458,\n",
       "       509895, 399562, 473621, 475261, 500768, 489110, 494172, 511206,\n",
       "       477696, 405386, 405047, 406066, 498937, 495146, 410788, 401973,\n",
       "       487054, 465774, 400795, 499286, 488819, 413866, 482478, 494930,\n",
       "       409160, 499979, 403288, 493627, 503958, 405213, 400567, 507303,\n",
       "       510289, 462090, 486746, 409188, 489279, 459167, 481499, 482799,\n",
       "       407424, 399620, 505994, 499969,      2], dtype=int64)"
      ]
     },
     "execution_count": 10,
     "metadata": {},
     "output_type": "execute_result"
    }
   ],
   "source": [
    "data_train.nunique().values"
   ]
  },
  {
   "cell_type": "code",
   "execution_count": 11,
   "metadata": {
    "colab": {
     "base_uri": "https://localhost:8080/",
     "height": 346
    },
    "id": "9RwLljPvv40J",
    "outputId": "28b84d63-6b2b-4986-83ff-40aaa1b80fd6"
   },
   "outputs": [
    {
     "data": {
      "text/html": [
       "<div>\n",
       "<style scoped>\n",
       "    .dataframe tbody tr th:only-of-type {\n",
       "        vertical-align: middle;\n",
       "    }\n",
       "\n",
       "    .dataframe tbody tr th {\n",
       "        vertical-align: top;\n",
       "    }\n",
       "\n",
       "    .dataframe thead th {\n",
       "        text-align: right;\n",
       "    }\n",
       "</style>\n",
       "<table border=\"1\" class=\"dataframe\">\n",
       "  <thead>\n",
       "    <tr style=\"text-align: right;\">\n",
       "      <th></th>\n",
       "      <th>f0</th>\n",
       "      <th>f1</th>\n",
       "      <th>f2</th>\n",
       "      <th>f3</th>\n",
       "      <th>f4</th>\n",
       "      <th>f5</th>\n",
       "      <th>f6</th>\n",
       "      <th>f7</th>\n",
       "      <th>f8</th>\n",
       "      <th>f9</th>\n",
       "      <th>...</th>\n",
       "      <th>f91</th>\n",
       "      <th>f92</th>\n",
       "      <th>f93</th>\n",
       "      <th>f94</th>\n",
       "      <th>f95</th>\n",
       "      <th>f96</th>\n",
       "      <th>f97</th>\n",
       "      <th>f98</th>\n",
       "      <th>f99</th>\n",
       "      <th>target</th>\n",
       "    </tr>\n",
       "  </thead>\n",
       "  <tbody>\n",
       "    <tr>\n",
       "      <th>count</th>\n",
       "      <td>600000.000000</td>\n",
       "      <td>600000.000000</td>\n",
       "      <td>600000.000000</td>\n",
       "      <td>600000.000000</td>\n",
       "      <td>600000.000000</td>\n",
       "      <td>600000.000000</td>\n",
       "      <td>600000.000000</td>\n",
       "      <td>600000.000000</td>\n",
       "      <td>600000.000000</td>\n",
       "      <td>600000.000000</td>\n",
       "      <td>...</td>\n",
       "      <td>600000.000000</td>\n",
       "      <td>600000.000000</td>\n",
       "      <td>600000.000000</td>\n",
       "      <td>600000.000000</td>\n",
       "      <td>600000.000000</td>\n",
       "      <td>600000.000000</td>\n",
       "      <td>600000.000000</td>\n",
       "      <td>600000.000000</td>\n",
       "      <td>600000.000000</td>\n",
       "      <td>600000.000000</td>\n",
       "    </tr>\n",
       "    <tr>\n",
       "      <th>mean</th>\n",
       "      <td>0.306508</td>\n",
       "      <td>2.497590</td>\n",
       "      <td>306.644536</td>\n",
       "      <td>2.647901</td>\n",
       "      <td>0.177850</td>\n",
       "      <td>2.556832</td>\n",
       "      <td>2.699650</td>\n",
       "      <td>2.571593</td>\n",
       "      <td>2.538273</td>\n",
       "      <td>0.134370</td>\n",
       "      <td>...</td>\n",
       "      <td>2.444471</td>\n",
       "      <td>0.155260</td>\n",
       "      <td>0.059407</td>\n",
       "      <td>0.144932</td>\n",
       "      <td>0.106419</td>\n",
       "      <td>2.547853</td>\n",
       "      <td>2.590159</td>\n",
       "      <td>0.158881</td>\n",
       "      <td>0.123048</td>\n",
       "      <td>0.506010</td>\n",
       "    </tr>\n",
       "    <tr>\n",
       "      <th>std</th>\n",
       "      <td>0.522450</td>\n",
       "      <td>1.554018</td>\n",
       "      <td>551.743893</td>\n",
       "      <td>1.544529</td>\n",
       "      <td>0.417488</td>\n",
       "      <td>1.562527</td>\n",
       "      <td>1.564000</td>\n",
       "      <td>1.549361</td>\n",
       "      <td>1.532988</td>\n",
       "      <td>0.421892</td>\n",
       "      <td>...</td>\n",
       "      <td>1.542509</td>\n",
       "      <td>0.548397</td>\n",
       "      <td>0.119426</td>\n",
       "      <td>0.462015</td>\n",
       "      <td>0.209128</td>\n",
       "      <td>1.558427</td>\n",
       "      <td>1.525091</td>\n",
       "      <td>0.436190</td>\n",
       "      <td>0.264896</td>\n",
       "      <td>0.499964</td>\n",
       "    </tr>\n",
       "    <tr>\n",
       "      <th>min</th>\n",
       "      <td>-3.797450</td>\n",
       "      <td>-1.223960</td>\n",
       "      <td>-1842.530000</td>\n",
       "      <td>-1.368560</td>\n",
       "      <td>-3.206210</td>\n",
       "      <td>-1.169770</td>\n",
       "      <td>-1.059310</td>\n",
       "      <td>-1.281970</td>\n",
       "      <td>-1.242020</td>\n",
       "      <td>-2.577840</td>\n",
       "      <td>...</td>\n",
       "      <td>-1.217700</td>\n",
       "      <td>-9.761770</td>\n",
       "      <td>-4.666240</td>\n",
       "      <td>-3.101500</td>\n",
       "      <td>-1.276540</td>\n",
       "      <td>-1.584740</td>\n",
       "      <td>-1.254730</td>\n",
       "      <td>-3.993500</td>\n",
       "      <td>-2.783380</td>\n",
       "      <td>0.000000</td>\n",
       "    </tr>\n",
       "    <tr>\n",
       "      <th>25%</th>\n",
       "      <td>0.026222</td>\n",
       "      <td>1.186238</td>\n",
       "      <td>43.573400</td>\n",
       "      <td>1.442028</td>\n",
       "      <td>0.019709</td>\n",
       "      <td>1.261038</td>\n",
       "      <td>1.385820</td>\n",
       "      <td>1.333848</td>\n",
       "      <td>1.292163</td>\n",
       "      <td>0.019563</td>\n",
       "      <td>...</td>\n",
       "      <td>1.214178</td>\n",
       "      <td>0.018904</td>\n",
       "      <td>0.024483</td>\n",
       "      <td>0.017055</td>\n",
       "      <td>0.025461</td>\n",
       "      <td>1.247888</td>\n",
       "      <td>1.348078</td>\n",
       "      <td>0.013536</td>\n",
       "      <td>0.018105</td>\n",
       "      <td>0.000000</td>\n",
       "    </tr>\n",
       "    <tr>\n",
       "      <th>50%</th>\n",
       "      <td>0.097788</td>\n",
       "      <td>2.516500</td>\n",
       "      <td>133.626000</td>\n",
       "      <td>2.634130</td>\n",
       "      <td>0.061586</td>\n",
       "      <td>2.590425</td>\n",
       "      <td>2.801255</td>\n",
       "      <td>2.557985</td>\n",
       "      <td>2.475880</td>\n",
       "      <td>0.058752</td>\n",
       "      <td>...</td>\n",
       "      <td>2.386845</td>\n",
       "      <td>0.068906</td>\n",
       "      <td>0.056649</td>\n",
       "      <td>0.063439</td>\n",
       "      <td>0.062151</td>\n",
       "      <td>2.601940</td>\n",
       "      <td>2.682090</td>\n",
       "      <td>0.058058</td>\n",
       "      <td>0.058471</td>\n",
       "      <td>1.000000</td>\n",
       "    </tr>\n",
       "    <tr>\n",
       "      <th>75%</th>\n",
       "      <td>0.397184</td>\n",
       "      <td>3.787630</td>\n",
       "      <td>302.262250</td>\n",
       "      <td>3.907640</td>\n",
       "      <td>0.112712</td>\n",
       "      <td>3.813662</td>\n",
       "      <td>3.996912</td>\n",
       "      <td>3.823450</td>\n",
       "      <td>3.804360</td>\n",
       "      <td>0.101046</td>\n",
       "      <td>...</td>\n",
       "      <td>3.693872</td>\n",
       "      <td>0.125165</td>\n",
       "      <td>0.088162</td>\n",
       "      <td>0.113114</td>\n",
       "      <td>0.102016</td>\n",
       "      <td>3.820665</td>\n",
       "      <td>3.839520</td>\n",
       "      <td>0.110718</td>\n",
       "      <td>0.104872</td>\n",
       "      <td>1.000000</td>\n",
       "    </tr>\n",
       "    <tr>\n",
       "      <th>max</th>\n",
       "      <td>8.781500</td>\n",
       "      <td>6.226720</td>\n",
       "      <td>6119.280000</td>\n",
       "      <td>6.521150</td>\n",
       "      <td>8.265470</td>\n",
       "      <td>6.515070</td>\n",
       "      <td>6.586780</td>\n",
       "      <td>6.258770</td>\n",
       "      <td>6.389670</td>\n",
       "      <td>7.078460</td>\n",
       "      <td>...</td>\n",
       "      <td>6.573890</td>\n",
       "      <td>18.412800</td>\n",
       "      <td>10.211800</td>\n",
       "      <td>8.623270</td>\n",
       "      <td>3.657220</td>\n",
       "      <td>6.254360</td>\n",
       "      <td>6.145300</td>\n",
       "      <td>10.767000</td>\n",
       "      <td>5.988110</td>\n",
       "      <td>1.000000</td>\n",
       "    </tr>\n",
       "  </tbody>\n",
       "</table>\n",
       "<p>8 rows × 101 columns</p>\n",
       "</div>"
      ],
      "text/plain": [
       "                  f0             f1             f2             f3  \\\n",
       "count  600000.000000  600000.000000  600000.000000  600000.000000   \n",
       "mean        0.306508       2.497590     306.644536       2.647901   \n",
       "std         0.522450       1.554018     551.743893       1.544529   \n",
       "min        -3.797450      -1.223960   -1842.530000      -1.368560   \n",
       "25%         0.026222       1.186238      43.573400       1.442028   \n",
       "50%         0.097788       2.516500     133.626000       2.634130   \n",
       "75%         0.397184       3.787630     302.262250       3.907640   \n",
       "max         8.781500       6.226720    6119.280000       6.521150   \n",
       "\n",
       "                  f4             f5             f6             f7  \\\n",
       "count  600000.000000  600000.000000  600000.000000  600000.000000   \n",
       "mean        0.177850       2.556832       2.699650       2.571593   \n",
       "std         0.417488       1.562527       1.564000       1.549361   \n",
       "min        -3.206210      -1.169770      -1.059310      -1.281970   \n",
       "25%         0.019709       1.261038       1.385820       1.333848   \n",
       "50%         0.061586       2.590425       2.801255       2.557985   \n",
       "75%         0.112712       3.813662       3.996912       3.823450   \n",
       "max         8.265470       6.515070       6.586780       6.258770   \n",
       "\n",
       "                  f8             f9  ...            f91            f92  \\\n",
       "count  600000.000000  600000.000000  ...  600000.000000  600000.000000   \n",
       "mean        2.538273       0.134370  ...       2.444471       0.155260   \n",
       "std         1.532988       0.421892  ...       1.542509       0.548397   \n",
       "min        -1.242020      -2.577840  ...      -1.217700      -9.761770   \n",
       "25%         1.292163       0.019563  ...       1.214178       0.018904   \n",
       "50%         2.475880       0.058752  ...       2.386845       0.068906   \n",
       "75%         3.804360       0.101046  ...       3.693872       0.125165   \n",
       "max         6.389670       7.078460  ...       6.573890      18.412800   \n",
       "\n",
       "                 f93            f94            f95            f96  \\\n",
       "count  600000.000000  600000.000000  600000.000000  600000.000000   \n",
       "mean        0.059407       0.144932       0.106419       2.547853   \n",
       "std         0.119426       0.462015       0.209128       1.558427   \n",
       "min        -4.666240      -3.101500      -1.276540      -1.584740   \n",
       "25%         0.024483       0.017055       0.025461       1.247888   \n",
       "50%         0.056649       0.063439       0.062151       2.601940   \n",
       "75%         0.088162       0.113114       0.102016       3.820665   \n",
       "max        10.211800       8.623270       3.657220       6.254360   \n",
       "\n",
       "                 f97            f98            f99         target  \n",
       "count  600000.000000  600000.000000  600000.000000  600000.000000  \n",
       "mean        2.590159       0.158881       0.123048       0.506010  \n",
       "std         1.525091       0.436190       0.264896       0.499964  \n",
       "min        -1.254730      -3.993500      -2.783380       0.000000  \n",
       "25%         1.348078       0.013536       0.018105       0.000000  \n",
       "50%         2.682090       0.058058       0.058471       1.000000  \n",
       "75%         3.839520       0.110718       0.104872       1.000000  \n",
       "max         6.145300      10.767000       5.988110       1.000000  \n",
       "\n",
       "[8 rows x 101 columns]"
      ]
     },
     "execution_count": 11,
     "metadata": {},
     "output_type": "execute_result"
    }
   ],
   "source": [
    "data_train.describe()"
   ]
  },
  {
   "cell_type": "code",
   "execution_count": 13,
   "metadata": {
    "id": "jLnkO1c-v-cP"
   },
   "outputs": [],
   "source": [
    "sample_train = data_train.sample(n=200000, random_state=0)\n"
   ]
  },
  {
   "cell_type": "code",
   "execution_count": 14,
   "metadata": {
    "id": "irIju5oS4bEO"
   },
   "outputs": [],
   "source": [
    "X_train = sample_train.drop(columns='target')\n",
    "y_train = sample_train.target"
   ]
  },
  {
   "cell_type": "markdown",
   "metadata": {
    "id": "3QhAiU866SyD"
   },
   "source": [
    "## **Using BorutaShap for Feature Selection and Creating Magik**"
   ]
  },
  {
   "cell_type": "code",
   "execution_count": 15,
   "metadata": {
    "id": "2oonDUmv5pTN",
    "scrolled": true
   },
   "outputs": [
    {
     "name": "stdout",
     "output_type": "stream",
     "text": [
      "Requirement already satisfied: xgboost in c:\\users\\yash\\anaconda3\\lib\\site-packages (1.5.0)\n",
      "Requirement already satisfied: numpy in c:\\users\\yash\\anaconda3\\lib\\site-packages (from xgboost) (1.19.5)\n",
      "Requirement already satisfied: scipy in c:\\users\\yash\\anaconda3\\lib\\site-packages (from xgboost) (1.5.0)\n",
      "Note: you may need to restart the kernel to use updated packages.\n"
     ]
    }
   ],
   "source": [
    "pip install xgboost"
   ]
  },
  {
   "cell_type": "code",
   "execution_count": 16,
   "metadata": {},
   "outputs": [],
   "source": [
    "from BorutaShap import BorutaShap\n",
    "from xgboost import XGBClassifier\n",
    "from sklearn.model_selection import KFold, StratifiedKFold"
   ]
  },
  {
   "cell_type": "code",
   "execution_count": null,
   "metadata": {
    "colab": {
     "base_uri": "https://localhost:8080/",
     "height": 66,
     "referenced_widgets": [
      "01296c21c7dd4959bf6245c15f172b66",
      "c1b77da514e44b53a966c7bd98942334",
      "312204b1d8c74ed29a5edf1993abbe4d",
      "5e66981a0200482b921d3fe674e9c90f",
      "bcaeebe499ad4819b424fb3770a6b3ee",
      "ee0d087e5c944c1db00f694ff0a5fa2c",
      "205a1c6c396a4db88c77e93128440246",
      "4bc636f519fa474aa4efeb47d2ecd8f9",
      "4f215e0f5a2049278873050931234175",
      "cdf5105793014ada972dd2d010a7bd74",
      "f0be48741a7f4d91980cbbb03ad64368"
     ]
    },
    "id": "xoktl2Kf5pWc",
    "outputId": "7a367916-521c-44b3-c7d0-59e698817641"
   },
   "outputs": [
    {
     "name": "stdout",
     "output_type": "stream",
     "text": [
      "FOLD 1/5\n"
     ]
    },
    {
     "data": {
      "application/vnd.jupyter.widget-view+json": {
       "model_id": "eb7efbdb09a44569a12adbf81bc92132",
       "version_major": 2,
       "version_minor": 0
      },
      "text/plain": [
       "HBox(children=(FloatProgress(value=0.0, max=50.0), HTML(value='')))"
      ]
     },
     "metadata": {},
     "output_type": "display_data"
    },
    {
     "name": "stdout",
     "output_type": "stream",
     "text": [
      "\n",
      "60 attributes confirmed important: ['f58', 'f5', 'f21', 'f33', 'f57', 'f34', 'f65', 'f51', 'f9', 'f67', 'f83', 'f24', 'f95', 'f4', 'f66', 'f2', 'f81', 'f10', 'f49', 'f26', 'f91', 'f47', 'f22', 'f30', 'f50', 'f1', 'f45', 'f42', 'f40', 'f80', 'f55', 'f27', 'f8', 'f28', 'f31', 'f48', 'f96', 'f97', 'f11', 'f64', 'f60', 'f94', 'f32', 'f16', 'f53', 'f98', 'f44', 'f82', 'f43', 'f70', 'f15', 'f20', 'f41', 'f93', 'f17', 'f54', 'f71', 'f84', 'f25', 'f3']\n",
      "33 attributes confirmed unimportant: ['f79', 'f29', 'f59', 'f89', 'f74', 'f87', 'f86', 'f69', 'f38', 'f88', 'f78', 'f12', 'f13', 'f68', 'f18', 'f62', 'f85', 'f61', 'f99', 'f19', 'f56', 'f76', 'f35', 'f6', 'f75', 'f52', 'f0', 'f63', 'f23', 'f46', 'f72', 'f92', 'f73']\n",
      "7 tentative attributes remains: ['f37', 'f90', 'f7', 'f36', 'f39', 'f77', 'f14']\n"
     ]
    },
    {
     "data": {
      "image/png": "[encoded data removed]",
      "text/plain": [
       "<Figure size 1728x864 with 1 Axes>"
      ]
     },
     "metadata": {
      "needs_background": "light"
     },
     "output_type": "display_data"
    },
    {
     "name": "stdout",
     "output_type": "stream",
     "text": [
      "Selected features at fold 1 are: ['f1', 'f10', 'f11', 'f15', 'f16', 'f17', 'f2', 'f20', 'f21', 'f22', 'f24', 'f25', 'f26', 'f27', 'f28', 'f3', 'f30', 'f31', 'f32', 'f33', 'f34', 'f4', 'f40', 'f41', 'f42', 'f43', 'f44', 'f45', 'f47', 'f48', 'f49', 'f5', 'f50', 'f51', 'f53', 'f54', 'f55', 'f57', 'f58', 'f60', 'f64', 'f65', 'f66', 'f67', 'f70', 'f71', 'f8', 'f80', 'f81', 'f82', 'f83', 'f84', 'f9', 'f91', 'f93', 'f94', 'f95', 'f96', 'f97', 'f98']\n",
      "FOLD 2/5\n"
     ]
    },
    {
     "data": {
      "application/vnd.jupyter.widget-view+json": {
       "model_id": "f397bc6a33ab42e4973030b77b0165bc",
       "version_major": 2,
       "version_minor": 0
      },
      "text/plain": [
       "HBox(children=(FloatProgress(value=0.0, max=50.0), HTML(value='')))"
      ]
     },
     "metadata": {},
     "output_type": "display_data"
    },
    {
     "name": "stdout",
     "output_type": "stream",
     "text": [
      "\n",
      "56 attributes confirmed important: ['f5', 'f21', 'f57', 'f34', 'f51', 'f9', 'f67', 'f83', 'f24', 'f95', 'f4', 'f66', 'f2', 'f81', 'f10', 'f49', 'f26', 'f91', 'f47', 'f22', 'f30', 'f50', 'f1', 'f45', 'f40', 'f80', 'f55', 'f27', 'f8', 'f28', 'f31', 'f48', 'f11', 'f96', 'f97', 'f90', 'f60', 'f76', 'f94', 'f32', 'f16', 'f53', 'f98', 'f44', 'f82', 'f43', 'f15', 'f20', 'f41', 'f93', 'f36', 'f17', 'f54', 'f71', 'f25', 'f3']\n",
      "38 attributes confirmed unimportant: ['f79', 'f29', 'f37', 'f33', 'f59', 'f89', 'f65', 'f74', 'f39', 'f86', 'f69', 'f38', 'f88', 'f78', 'f12', 'f13', 'f68', 'f18', 'f62', 'f85', 'f42', 'f61', 'f99', 'f64', 'f19', 'f56', 'f7', 'f35', 'f6', 'f52', 'f75', 'f0', 'f63', 'f70', 'f23', 'f72', 'f92', 'f73']\n",
      "6 tentative attributes remains: ['f58', 'f46', 'f84', 'f87', 'f77', 'f14']\n"
     ]
    },
    {
     "data": {
      "image/png": "[encoded data removed]",
      "text/plain": [
       "<Figure size 1728x864 with 1 Axes>"
      ]
     },
     "metadata": {
      "needs_background": "light"
     },
     "output_type": "display_data"
    },
    {
     "name": "stdout",
     "output_type": "stream",
     "text": [
      "Selected features at fold 2 are: ['f1', 'f10', 'f11', 'f15', 'f16', 'f17', 'f2', 'f20', 'f21', 'f22', 'f24', 'f25', 'f26', 'f27', 'f28', 'f3', 'f30', 'f31', 'f32', 'f34', 'f36', 'f4', 'f40', 'f41', 'f43', 'f44', 'f45', 'f47', 'f48', 'f49', 'f5', 'f50', 'f51', 'f53', 'f54', 'f55', 'f57', 'f60', 'f66', 'f67', 'f71', 'f76', 'f8', 'f80', 'f81', 'f82', 'f83', 'f9', 'f90', 'f91', 'f93', 'f94', 'f95', 'f96', 'f97', 'f98']\n",
      "FOLD 3/5\n"
     ]
    },
    {
     "data": {
      "application/vnd.jupyter.widget-view+json": {
       "model_id": "fd8d31b0350e41f093b818584d4e835f",
       "version_major": 2,
       "version_minor": 0
      },
      "text/plain": [
       "HBox(children=(FloatProgress(value=0.0, max=50.0), HTML(value='')))"
      ]
     },
     "metadata": {},
     "output_type": "display_data"
    }
   ],
   "source": [
    "folds = 5 \n",
    "kf = KFold(n_splits=folds, shuffle=True, random_state=0) \n",
    "\n",
    "selected_columns = list()     \n",
    "\n",
    "for k, (train_idx, val_idx) in enumerate(kf.split(X_train, y_train)):          \n",
    "  print(f\"FOLD {k+1}/{folds}\")          \n",
    "  \n",
    "  model = XGBClassifier(         \n",
    "      colsample_bytree= 0.50,          \n",
    "      subsample= 0.50,          \n",
    "      learning_rate= 0.012,          \n",
    "      max_depth= 3,          \n",
    "      min_child_weight= 252,         \n",
    "      n_estimators= 1000,         \n",
    "      random_state=0,         \n",
    "      use_label_encoder=False,         \n",
    "      objective='binary:logistic',         \n",
    "      eval_metric='auc',\n",
    "      tree_method='approx'      \n",
    "      )          \n",
    "  \n",
    "  Feature_Selector = BorutaShap(model=model,                                   \n",
    "                                importance_measure='shap',                                    \n",
    "                                classification=True)      \n",
    "  Feature_Selector.fit(X=X_train.iloc[train_idx, :], y=y_train.iloc[train_idx],                           \n",
    "                       n_trials=50, random_state=0)          \n",
    "  Feature_Selector.plot(which_features='all', figsize=(24,12))          \n",
    "  selected_columns.append(sorted(Feature_Selector.Subset().columns))          \n",
    "  print(f\"Selected features at fold {k+1} are: {selected_columns[-1]}\")"
   ]
  },
  {
   "cell_type": "code",
   "execution_count": 17,
   "metadata": {
    "id": "aCtyVpdu5pZc",
    "scrolled": false
   },
   "outputs": [],
   "source": [
    "final_dataset = data_train[['f1', 'f10', 'f11', 'f14', 'f15', 'f16', 'f17', 'f2', 'f20', 'f21', 'f22', 'f24', 'f25', 'f26', 'f27', 'f28', 'f3', 'f30', 'f31', 'f32', 'f33', 'f34', 'f36', 'f37', 'f4', 'f40', 'f41', 'f42', 'f43', 'f44', 'f45', 'f46', 'f47', 'f48', 'f49', 'f5', 'f50', 'f51', 'f53', 'f54', 'f55', 'f57', 'f58', 'f59', 'f60', 'f61', 'f62', 'f64', 'f66', 'f67', 'f70', 'f71', 'f76', 'f77', 'f8', 'f80', 'f81', 'f82', 'f83', 'f87', 'f89', 'f9', 'f90', 'f91', 'f93', 'f94', 'f95', 'f96', 'f97', 'f98', 'target']]"
   ]
  },
  {
   "cell_type": "code",
   "execution_count": 18,
   "metadata": {},
   "outputs": [
    {
     "data": {
      "text/html": [
       "<div>\n",
       "<style scoped>\n",
       "    .dataframe tbody tr th:only-of-type {\n",
       "        vertical-align: middle;\n",
       "    }\n",
       "\n",
       "    .dataframe tbody tr th {\n",
       "        vertical-align: top;\n",
       "    }\n",
       "\n",
       "    .dataframe thead th {\n",
       "        text-align: right;\n",
       "    }\n",
       "</style>\n",
       "<table border=\"1\" class=\"dataframe\">\n",
       "  <thead>\n",
       "    <tr style=\"text-align: right;\">\n",
       "      <th></th>\n",
       "      <th>f1</th>\n",
       "      <th>f10</th>\n",
       "      <th>f11</th>\n",
       "      <th>f14</th>\n",
       "      <th>f15</th>\n",
       "      <th>f16</th>\n",
       "      <th>f17</th>\n",
       "      <th>f2</th>\n",
       "      <th>f20</th>\n",
       "      <th>f21</th>\n",
       "      <th>...</th>\n",
       "      <th>f9</th>\n",
       "      <th>f90</th>\n",
       "      <th>f91</th>\n",
       "      <th>f93</th>\n",
       "      <th>f94</th>\n",
       "      <th>f95</th>\n",
       "      <th>f96</th>\n",
       "      <th>f97</th>\n",
       "      <th>f98</th>\n",
       "      <th>target</th>\n",
       "    </tr>\n",
       "    <tr>\n",
       "      <th>id</th>\n",
       "      <th></th>\n",
       "      <th></th>\n",
       "      <th></th>\n",
       "      <th></th>\n",
       "      <th></th>\n",
       "      <th></th>\n",
       "      <th></th>\n",
       "      <th></th>\n",
       "      <th></th>\n",
       "      <th></th>\n",
       "      <th></th>\n",
       "      <th></th>\n",
       "      <th></th>\n",
       "      <th></th>\n",
       "      <th></th>\n",
       "      <th></th>\n",
       "      <th></th>\n",
       "      <th></th>\n",
       "      <th></th>\n",
       "      <th></th>\n",
       "      <th></th>\n",
       "    </tr>\n",
       "  </thead>\n",
       "  <tbody>\n",
       "    <tr>\n",
       "      <th>0</th>\n",
       "      <td>3.59437</td>\n",
       "      <td>1.607190</td>\n",
       "      <td>-0.318058</td>\n",
       "      <td>1.35114</td>\n",
       "      <td>2.535930</td>\n",
       "      <td>0.197527</td>\n",
       "      <td>0.676494</td>\n",
       "      <td>132.8040</td>\n",
       "      <td>0.037380</td>\n",
       "      <td>0.230322</td>\n",
       "      <td>...</td>\n",
       "      <td>0.012330</td>\n",
       "      <td>0.010739</td>\n",
       "      <td>1.09862</td>\n",
       "      <td>-0.011715</td>\n",
       "      <td>0.052759</td>\n",
       "      <td>0.065400</td>\n",
       "      <td>4.211250</td>\n",
       "      <td>1.97877</td>\n",
       "      <td>0.085974</td>\n",
       "      <td>0</td>\n",
       "    </tr>\n",
       "    <tr>\n",
       "      <th>1</th>\n",
       "      <td>1.67336</td>\n",
       "      <td>0.331749</td>\n",
       "      <td>0.325091</td>\n",
       "      <td>4.33943</td>\n",
       "      <td>-0.224999</td>\n",
       "      <td>0.233586</td>\n",
       "      <td>3.381280</td>\n",
       "      <td>76.5336</td>\n",
       "      <td>-0.051268</td>\n",
       "      <td>0.006135</td>\n",
       "      <td>...</td>\n",
       "      <td>0.037706</td>\n",
       "      <td>0.135838</td>\n",
       "      <td>3.46017</td>\n",
       "      <td>0.124863</td>\n",
       "      <td>0.154064</td>\n",
       "      <td>0.606848</td>\n",
       "      <td>-0.267928</td>\n",
       "      <td>2.57786</td>\n",
       "      <td>-0.020877</td>\n",
       "      <td>0</td>\n",
       "    </tr>\n",
       "    <tr>\n",
       "      <th>2</th>\n",
       "      <td>1.49747</td>\n",
       "      <td>0.328684</td>\n",
       "      <td>2.968810</td>\n",
       "      <td>5.30986</td>\n",
       "      <td>1.354790</td>\n",
       "      <td>-0.262018</td>\n",
       "      <td>1.379080</td>\n",
       "      <td>233.5460</td>\n",
       "      <td>-0.008806</td>\n",
       "      <td>0.109348</td>\n",
       "      <td>...</td>\n",
       "      <td>0.056995</td>\n",
       "      <td>0.117310</td>\n",
       "      <td>4.88300</td>\n",
       "      <td>0.032396</td>\n",
       "      <td>0.116092</td>\n",
       "      <td>-0.001689</td>\n",
       "      <td>-0.520069</td>\n",
       "      <td>2.14112</td>\n",
       "      <td>0.124464</td>\n",
       "      <td>0</td>\n",
       "    </tr>\n",
       "    <tr>\n",
       "      <th>3</th>\n",
       "      <td>0.24600</td>\n",
       "      <td>1.002680</td>\n",
       "      <td>4.869600</td>\n",
       "      <td>1.23843</td>\n",
       "      <td>2.348360</td>\n",
       "      <td>0.175475</td>\n",
       "      <td>1.608890</td>\n",
       "      <td>779.9670</td>\n",
       "      <td>0.005141</td>\n",
       "      <td>0.076506</td>\n",
       "      <td>...</td>\n",
       "      <td>0.123494</td>\n",
       "      <td>-0.015347</td>\n",
       "      <td>3.47439</td>\n",
       "      <td>-0.008100</td>\n",
       "      <td>0.062013</td>\n",
       "      <td>0.041193</td>\n",
       "      <td>0.511657</td>\n",
       "      <td>1.96860</td>\n",
       "      <td>0.040017</td>\n",
       "      <td>0</td>\n",
       "    </tr>\n",
       "    <tr>\n",
       "      <th>4</th>\n",
       "      <td>3.71542</td>\n",
       "      <td>0.711483</td>\n",
       "      <td>0.769988</td>\n",
       "      <td>3.71145</td>\n",
       "      <td>5.464350</td>\n",
       "      <td>0.287104</td>\n",
       "      <td>2.616950</td>\n",
       "      <td>156.1280</td>\n",
       "      <td>-0.010543</td>\n",
       "      <td>0.109121</td>\n",
       "      <td>...</td>\n",
       "      <td>0.034166</td>\n",
       "      <td>0.013781</td>\n",
       "      <td>1.91059</td>\n",
       "      <td>0.105616</td>\n",
       "      <td>0.125072</td>\n",
       "      <td>0.037509</td>\n",
       "      <td>1.043790</td>\n",
       "      <td>1.07481</td>\n",
       "      <td>-0.012819</td>\n",
       "      <td>1</td>\n",
       "    </tr>\n",
       "  </tbody>\n",
       "</table>\n",
       "<p>5 rows × 71 columns</p>\n",
       "</div>"
      ],
      "text/plain": [
       "         f1       f10       f11      f14       f15       f16       f17  \\\n",
       "id                                                                       \n",
       "0   3.59437  1.607190 -0.318058  1.35114  2.535930  0.197527  0.676494   \n",
       "1   1.67336  0.331749  0.325091  4.33943 -0.224999  0.233586  3.381280   \n",
       "2   1.49747  0.328684  2.968810  5.30986  1.354790 -0.262018  1.379080   \n",
       "3   0.24600  1.002680  4.869600  1.23843  2.348360  0.175475  1.608890   \n",
       "4   3.71542  0.711483  0.769988  3.71145  5.464350  0.287104  2.616950   \n",
       "\n",
       "          f2       f20       f21  ...        f9       f90      f91       f93  \\\n",
       "id                                ...                                          \n",
       "0   132.8040  0.037380  0.230322  ...  0.012330  0.010739  1.09862 -0.011715   \n",
       "1    76.5336 -0.051268  0.006135  ...  0.037706  0.135838  3.46017  0.124863   \n",
       "2   233.5460 -0.008806  0.109348  ...  0.056995  0.117310  4.88300  0.032396   \n",
       "3   779.9670  0.005141  0.076506  ...  0.123494 -0.015347  3.47439 -0.008100   \n",
       "4   156.1280 -0.010543  0.109121  ...  0.034166  0.013781  1.91059  0.105616   \n",
       "\n",
       "         f94       f95       f96      f97       f98  target  \n",
       "id                                                           \n",
       "0   0.052759  0.065400  4.211250  1.97877  0.085974       0  \n",
       "1   0.154064  0.606848 -0.267928  2.57786 -0.020877       0  \n",
       "2   0.116092 -0.001689 -0.520069  2.14112  0.124464       0  \n",
       "3   0.062013  0.041193  0.511657  1.96860  0.040017       0  \n",
       "4   0.125072  0.037509  1.043790  1.07481 -0.012819       1  \n",
       "\n",
       "[5 rows x 71 columns]"
      ]
     },
     "execution_count": 18,
     "metadata": {},
     "output_type": "execute_result"
    }
   ],
   "source": [
    "final_dataset.head()"
   ]
  },
  {
   "cell_type": "code",
   "execution_count": 19,
   "metadata": {
    "scrolled": true
   },
   "outputs": [
    {
     "name": "stdout",
     "output_type": "stream",
     "text": [
      "<class 'pandas.core.frame.DataFrame'>\n",
      "Int64Index: 600000 entries, 0 to 599999\n",
      "Data columns (total 71 columns):\n",
      " #   Column  Non-Null Count   Dtype  \n",
      "---  ------  --------------   -----  \n",
      " 0   f1      600000 non-null  float64\n",
      " 1   f10     600000 non-null  float64\n",
      " 2   f11     600000 non-null  float64\n",
      " 3   f14     600000 non-null  float64\n",
      " 4   f15     600000 non-null  float64\n",
      " 5   f16     600000 non-null  float64\n",
      " 6   f17     600000 non-null  float64\n",
      " 7   f2      600000 non-null  float64\n",
      " 8   f20     600000 non-null  float64\n",
      " 9   f21     600000 non-null  float64\n",
      " 10  f22     600000 non-null  float64\n",
      " 11  f24     600000 non-null  float64\n",
      " 12  f25     600000 non-null  float64\n",
      " 13  f26     600000 non-null  float64\n",
      " 14  f27     600000 non-null  float64\n",
      " 15  f28     600000 non-null  float64\n",
      " 16  f3      600000 non-null  float64\n",
      " 17  f30     600000 non-null  float64\n",
      " 18  f31     600000 non-null  float64\n",
      " 19  f32     600000 non-null  float64\n",
      " 20  f33     600000 non-null  float64\n",
      " 21  f34     600000 non-null  float64\n",
      " 22  f36     600000 non-null  float64\n",
      " 23  f37     600000 non-null  float64\n",
      " 24  f4      600000 non-null  float64\n",
      " 25  f40     600000 non-null  float64\n",
      " 26  f41     600000 non-null  float64\n",
      " 27  f42     600000 non-null  float64\n",
      " 28  f43     600000 non-null  float64\n",
      " 29  f44     600000 non-null  float64\n",
      " 30  f45     600000 non-null  float64\n",
      " 31  f46     600000 non-null  float64\n",
      " 32  f47     600000 non-null  float64\n",
      " 33  f48     600000 non-null  float64\n",
      " 34  f49     600000 non-null  float64\n",
      " 35  f5      600000 non-null  float64\n",
      " 36  f50     600000 non-null  float64\n",
      " 37  f51     600000 non-null  float64\n",
      " 38  f53     600000 non-null  float64\n",
      " 39  f54     600000 non-null  float64\n",
      " 40  f55     600000 non-null  float64\n",
      " 41  f57     600000 non-null  float64\n",
      " 42  f58     600000 non-null  float64\n",
      " 43  f59     600000 non-null  float64\n",
      " 44  f60     600000 non-null  float64\n",
      " 45  f61     600000 non-null  float64\n",
      " 46  f62     600000 non-null  float64\n",
      " 47  f64     600000 non-null  float64\n",
      " 48  f66     600000 non-null  float64\n",
      " 49  f67     600000 non-null  float64\n",
      " 50  f70     600000 non-null  float64\n",
      " 51  f71     600000 non-null  float64\n",
      " 52  f76     600000 non-null  float64\n",
      " 53  f77     600000 non-null  float64\n",
      " 54  f8      600000 non-null  float64\n",
      " 55  f80     600000 non-null  float64\n",
      " 56  f81     600000 non-null  float64\n",
      " 57  f82     600000 non-null  float64\n",
      " 58  f83     600000 non-null  float64\n",
      " 59  f87     600000 non-null  float64\n",
      " 60  f89     600000 non-null  float64\n",
      " 61  f9      600000 non-null  float64\n",
      " 62  f90     600000 non-null  float64\n",
      " 63  f91     600000 non-null  float64\n",
      " 64  f93     600000 non-null  float64\n",
      " 65  f94     600000 non-null  float64\n",
      " 66  f95     600000 non-null  float64\n",
      " 67  f96     600000 non-null  float64\n",
      " 68  f97     600000 non-null  float64\n",
      " 69  f98     600000 non-null  float64\n",
      " 70  target  600000 non-null  int64  \n",
      "dtypes: float64(70), int64(1)\n",
      "memory usage: 329.6 MB\n"
     ]
    }
   ],
   "source": [
    "final_dataset.shape\n",
    "final_dataset.info()"
   ]
  },
  {
   "cell_type": "markdown",
   "metadata": {},
   "source": [
    "## **Splitting the Dataset into Training and Test Set**"
   ]
  },
  {
   "cell_type": "code",
   "execution_count": 20,
   "metadata": {},
   "outputs": [
    {
     "name": "stdout",
     "output_type": "stream",
     "text": [
      "              f1       f10       f11       f14       f15       f16       f17  \\\n",
      "id                                                                             \n",
      "0       3.594370  1.607190 -0.318058  1.351140  2.535930  0.197527  0.676494   \n",
      "1       1.673360  0.331749  0.325091  4.339430 -0.224999  0.233586  3.381280   \n",
      "2       1.497470  0.328684  2.968810  5.309860  1.354790 -0.262018  1.379080   \n",
      "3       0.246000  1.002680  4.869600  1.238430  2.348360  0.175475  1.608890   \n",
      "4       3.715420  0.711483  0.769988  3.711450  5.464350  0.287104  2.616950   \n",
      "...          ...       ...       ...       ...       ...       ...       ...   \n",
      "599995  1.640550  0.163757  1.880550  3.738570  5.559030  0.270988  4.683410   \n",
      "599996  4.826860  0.955670  3.626730  2.634190  1.847890  0.253983  2.327860   \n",
      "599997  0.502062  0.964948  1.856410  0.981413  0.764425  2.467300  1.779390   \n",
      "599998  3.827470  1.097900  5.244340  1.787480  1.507910  0.145095  1.764690   \n",
      "599999  3.457390  0.039689  3.123450  1.003720  1.108150 -0.080179  0.944569   \n",
      "\n",
      "               f2       f20       f21  ...       f89        f9       f90  \\\n",
      "id                                     ...                                 \n",
      "0        132.8040  0.037380  0.230322  ...  0.067086  0.012330  0.010739   \n",
      "1         76.5336 -0.051268  0.006135  ...  0.109968  0.037706  0.135838   \n",
      "2        233.5460 -0.008806  0.109348  ...  0.026758  0.056995  0.117310   \n",
      "3        779.9670  0.005141  0.076506  ...  0.069930  0.123494 -0.015347   \n",
      "4        156.1280 -0.010543  0.109121  ...  0.134351  0.034166  0.013781   \n",
      "...           ...       ...       ...  ...       ...       ...       ...   \n",
      "599995  1375.8900  0.020220  0.038160  ...  0.002860 -0.022177  0.046537   \n",
      "599996   -99.6478 -0.025788  0.026067  ...  0.053702 -0.009738  0.109293   \n",
      "599997    66.2360  0.078700  0.049002  ...  0.103598  0.025137  0.117131   \n",
      "599998   777.8720  0.053249  0.050038  ... -0.023888  0.461982  0.072443   \n",
      "599999   160.5980  0.033609 -0.020948  ...  0.055496  0.025498  0.088059   \n",
      "\n",
      "             f91       f93       f94       f95       f96       f97       f98  \n",
      "id                                                                            \n",
      "0       1.098620 -0.011715  0.052759  0.065400  4.211250  1.978770  0.085974  \n",
      "1       3.460170  0.124863  0.154064  0.606848 -0.267928  2.577860 -0.020877  \n",
      "2       4.883000  0.032396  0.116092 -0.001689 -0.520069  2.141120  0.124464  \n",
      "3       3.474390 -0.008100  0.062013  0.041193  0.511657  1.968600  0.040017  \n",
      "4       1.910590  0.105616  0.125072  0.037509  1.043790  1.074810 -0.012819  \n",
      "...          ...       ...       ...       ...       ...       ...       ...  \n",
      "599995  1.552280  0.017643  0.225133  0.073179  4.436510  1.739330  0.049038  \n",
      "599996  1.345210  0.081926  0.234041  0.041383  3.873990  1.870100  0.162313  \n",
      "599997  2.181150  0.109668  0.027466  0.061931 -0.383329  0.922113  0.084864  \n",
      "599998  0.366702  0.071452 -0.038071  0.038829 -0.122888  3.107790  0.061334  \n",
      "599999  2.282780  0.029301  1.059810  0.007639  3.732990  1.965300  0.049075  \n",
      "\n",
      "[600000 rows x 70 columns]\n"
     ]
    }
   ],
   "source": [
    "X = final_dataset.drop(columns='target')\n",
    "print(X)"
   ]
  },
  {
   "cell_type": "code",
   "execution_count": 21,
   "metadata": {},
   "outputs": [
    {
     "name": "stdout",
     "output_type": "stream",
     "text": [
      "id\n",
      "0         0\n",
      "1         0\n",
      "2         0\n",
      "3         0\n",
      "4         1\n",
      "         ..\n",
      "599995    1\n",
      "599996    0\n",
      "599997    0\n",
      "599998    1\n",
      "599999    1\n",
      "Name: target, Length: 600000, dtype: int64\n"
     ]
    }
   ],
   "source": [
    "y = final_dataset.target\n",
    "print(y)"
   ]
  },
  {
   "cell_type": "code",
   "execution_count": 22,
   "metadata": {},
   "outputs": [],
   "source": [
    "from sklearn.model_selection import train_test_split\n",
    "X_train, X_test, y_train, y_test = train_test_split(X, y, train_size=0.25, random_state = 11)\n"
   ]
  },
  {
   "cell_type": "markdown",
   "metadata": {},
   "source": [
    "## Standard Scalling"
   ]
  },
  {
   "cell_type": "code",
   "execution_count": 23,
   "metadata": {},
   "outputs": [],
   "source": [
    "from sklearn.preprocessing import StandardScaler\n",
    "sc_x = StandardScaler()\n",
    "sca_X_train = pd.DataFrame(sc_x.fit_transform(X_train))\n",
    "sca_X_test = pd.DataFrame(sc_x.fit_transform(X_test))\n",
    "sca_X_train.columns = X_train.columns.values \n",
    "sca_X_test.columns = X_test.columns.values\n",
    "sca_X_train.index = X_train.index.values\n",
    "sca_X_test = X_test.index.values\n",
    "sca_X_train = X_train \n",
    "sca_X_test = X_test"
   ]
  },
  {
   "cell_type": "markdown",
   "metadata": {},
   "source": [
    "##  Baseline Models\n",
    "To choose the methods which will allow the model to achieve good performance\n",
    "\n",
    "1) RandomForest = 64.81%\n",
    "\n",
    "2) Logistic Regression = 72.97%\n",
    "\n",
    "3) XGBoost = 70.31%\n",
    "\n",
    "4) Decision Tree Classifier = 56.3%\n",
    "\n",
    "5) Naive Bayes = 59.2%"
   ]
  },
  {
   "cell_type": "markdown",
   "metadata": {},
   "source": [
    "## **1)Random Forest Classifier**"
   ]
  },
  {
   "cell_type": "code",
   "execution_count": 24,
   "metadata": {},
   "outputs": [
    {
     "data": {
      "text/plain": [
       "RandomForestClassifier(criterion='entropy', n_estimators=50, random_state=11)"
      ]
     },
     "execution_count": 24,
     "metadata": {},
     "output_type": "execute_result"
    }
   ],
   "source": [
    "from sklearn.ensemble import RandomForestClassifier\n",
    "classifier = RandomForestClassifier(random_state=11, n_estimators=50, criterion='entropy')\n",
    "classifier.fit(X_train, y_train)"
   ]
  },
  {
   "cell_type": "markdown",
   "metadata": {},
   "source": [
    "## 1)Predicting the Validation set Result"
   ]
  },
  {
   "cell_type": "code",
   "execution_count": 44,
   "metadata": {},
   "outputs": [
    {
     "name": "stdout",
     "output_type": "stream",
     "text": [
      "              precision    recall  f1-score   support\n",
      "\n",
      "           0       0.64      0.66      0.65    222501\n",
      "           1       0.66      0.64      0.65    227499\n",
      "\n",
      "    accuracy                           0.65    450000\n",
      "   macro avg       0.65      0.65      0.65    450000\n",
      "weighted avg       0.65      0.65      0.65    450000\n",
      "\n"
     ]
    }
   ],
   "source": [
    "y_pred = classifier.predict(X_test)\n",
    "from sklearn.metrics import confusion_matrix, accuracy_score, classification_report,roc_auc_score\n",
    "acc = accuracy_score(y_test, y_pred)\n",
    "classi = print(classification_report(y_test, y_pred))"
   ]
  },
  {
   "cell_type": "code",
   "execution_count": 45,
   "metadata": {},
   "outputs": [
    {
     "name": "stdout",
     "output_type": "stream",
     "text": [
      "[[146092  76409]\n",
      " [ 81936 145563]]\n"
     ]
    },
    {
     "data": {
      "text/plain": [
       "<matplotlib.axes._subplots.AxesSubplot at 0x1c528c6aa30>"
      ]
     },
     "execution_count": 45,
     "metadata": {},
     "output_type": "execute_result"
    },
    {
     "data": {
      "image/png": "[encoded data removed]",
      "text/plain": [
       "<Figure size 432x288 with 2 Axes>"
      ]
     },
     "metadata": {
      "needs_background": "light"
     },
     "output_type": "display_data"
    }
   ],
   "source": [
    "cm = confusion_matrix(y_test, y_pred)\n",
    "print(cm)\n",
    "sns.heatmap(cm, annot=True, fmt=\"d\")"
   ]
  },
  {
   "cell_type": "code",
   "execution_count": 46,
   "metadata": {},
   "outputs": [
    {
     "name": "stdout",
     "output_type": "stream",
     "text": [
      "0.6481222222222223\n"
     ]
    }
   ],
   "source": [
    "acc = accuracy_score(y_test, y_pred)\n",
    "print(acc)"
   ]
  },
  {
   "cell_type": "markdown",
   "metadata": {},
   "source": [
    "## **2) Logistic Regression**"
   ]
  },
  {
   "cell_type": "code",
   "execution_count": 66,
   "metadata": {},
   "outputs": [
    {
     "data": {
      "text/plain": [
       "LogisticRegression(C=1000, n_jobs=-1, random_state=0, solver='liblinear')"
      ]
     },
     "execution_count": 66,
     "metadata": {},
     "output_type": "execute_result"
    }
   ],
   "source": [
    "from sklearn.linear_model import LogisticRegression\n",
    "classifier_LR = LogisticRegression(random_state=0, C=1000, solver='liblinear', penalty='l2', n_jobs=-1)\n",
    "classifier_LR.fit(X_train, y_train)"
   ]
  },
  {
   "cell_type": "markdown",
   "metadata": {},
   "source": [
    "## **2) Predicting the Validation set Result**"
   ]
  },
  {
   "cell_type": "code",
   "execution_count": 67,
   "metadata": {
    "scrolled": true
   },
   "outputs": [
    {
     "name": "stdout",
     "output_type": "stream",
     "text": [
      "              precision    recall  f1-score   support\n",
      "\n",
      "           0       0.73      0.72      0.72    222501\n",
      "           1       0.73      0.74      0.73    227499\n",
      "\n",
      "    accuracy                           0.73    450000\n",
      "   macro avg       0.73      0.73      0.73    450000\n",
      "weighted avg       0.73      0.73      0.73    450000\n",
      "\n"
     ]
    }
   ],
   "source": [
    "y_pred = classifier_LR.predict(X_test)\n",
    "from sklearn.metrics import confusion_matrix, accuracy_score, classification_report,roc_auc_score\n",
    "classi = print(classification_report(y_test, y_pred))"
   ]
  },
  {
   "cell_type": "code",
   "execution_count": 68,
   "metadata": {},
   "outputs": [
    {
     "data": {
      "text/plain": [
       "<matplotlib.axes._subplots.AxesSubplot at 0x2e7279e19a0>"
      ]
     },
     "execution_count": 68,
     "metadata": {},
     "output_type": "execute_result"
    },
    {
     "data": {
      "image/png": "[encoded data removed]",
      "text/plain": [
       "<Figure size 432x288 with 2 Axes>"
      ]
     },
     "metadata": {
      "needs_background": "light"
     },
     "output_type": "display_data"
    }
   ],
   "source": [
    "cm = confusion_matrix(y_test, y_pred)\n",
    "sns.heatmap(cm, annot=True, fmt=\"d\")"
   ]
  },
  {
   "cell_type": "code",
   "execution_count": 69,
   "metadata": {},
   "outputs": [
    {
     "name": "stdout",
     "output_type": "stream",
     "text": [
      "0.7279866666666667\n"
     ]
    }
   ],
   "source": [
    "acc=accuracy_score(y_test, y_pred)\n",
    "print(acc)"
   ]
  },
  {
   "cell_type": "code",
   "execution_count": 27,
   "metadata": {},
   "outputs": [
    {
     "name": "stdout",
     "output_type": "stream",
     "text": [
      "Logistic Regression Accuracy: 0.729 (+/- 0.009)\n"
     ]
    }
   ],
   "source": [
    "from sklearn.model_selection import cross_val_score\n",
    "kcv_LR = cross_val_score(estimator=classifier_LR, \n",
    "                      X=X_train,\n",
    "                      y=y_train,\n",
    "                      cv=10\n",
    ")\n",
    "print('Logistic Regression Accuracy: %0.3f (+/- %0.3f)' % (kcv_LR.mean(), kcv_LR.std()*2))"
   ]
  },
  {
   "cell_type": "markdown",
   "metadata": {},
   "source": [
    "## **3) XGBoost** "
   ]
  },
  {
   "cell_type": "code",
   "execution_count": 74,
   "metadata": {},
   "outputs": [
    {
     "name": "stdout",
     "output_type": "stream",
     "text": [
      "[15:01:41] WARNING: C:/Users/Administrator/workspace/xgboost-win64_release_1.5.0/src/learner.cc:1115: Starting in XGBoost 1.3.0, the default evaluation metric used with the objective 'binary:logistic' was changed from 'error' to 'logloss'. Explicitly set eval_metric if you'd like to restore the old behavior.\n"
     ]
    },
    {
     "data": {
      "text/plain": [
       "XGBClassifier(base_score=0.5, booster='gbtree', colsample_bylevel=1,\n",
       "              colsample_bynode=1, colsample_bytree=0.8,\n",
       "              enable_categorical=False, gamma=0.68, gpu_id=-1,\n",
       "              importance_type=None, interaction_constraints='',\n",
       "              learning_rate=0.003, max_delta_step=5, max_depth=8,\n",
       "              min_child_weight=5, missing=nan, monotone_constraints='()',\n",
       "              n_estimators=10000, n_jobs=-1, num_parallel_tree=1,\n",
       "              predictor='auto', random_state=0, reg_alpha=0, reg_lambda=1,\n",
       "              scale_pos_weight=1, subsample=0.7, tree_method='hist',\n",
       "              validate_parameters=1, verbosity=None)"
      ]
     },
     "execution_count": 74,
     "metadata": {},
     "output_type": "execute_result"
    }
   ],
   "source": [
    "from xgboost import XGBClassifier\n",
    "classifier_XG = XGBClassifier(max_depth = 8,\n",
    "                                   learning_rate = 0.003,\n",
    "                                   n_estimators = 10000,\n",
    "                                   objective = 'binary:logistic',\n",
    "                                   tree_method = 'hist',\n",
    "                                   booster = 'gbtree',\n",
    "                                   gamma = 0.68,\n",
    "                                   max_delta_step = 5,\n",
    "                                   min_child_weight = 5,\n",
    "                                   subsample = 0.7,\n",
    "                                   colsample_bytree = 0.8,\n",
    "                                   n_jobs = -1)\n",
    "classifier_XG.fit(X_train, y_train)"
   ]
  },
  {
   "cell_type": "markdown",
   "metadata": {},
   "source": [
    "## **3) Predicting the Validation set Result**"
   ]
  },
  {
   "cell_type": "code",
   "execution_count": 75,
   "metadata": {},
   "outputs": [
    {
     "name": "stdout",
     "output_type": "stream",
     "text": [
      "              precision    recall  f1-score   support\n",
      "\n",
      "           0       0.71      0.70      0.70    222501\n",
      "           1       0.71      0.72      0.71    227499\n",
      "\n",
      "    accuracy                           0.71    450000\n",
      "   macro avg       0.71      0.71      0.71    450000\n",
      "weighted avg       0.71      0.71      0.71    450000\n",
      "\n"
     ]
    }
   ],
   "source": [
    "y_pred = classifier_XG.predict(X_test)\n",
    "classi = print(classification_report(y_test, y_pred))"
   ]
  },
  {
   "cell_type": "code",
   "execution_count": 76,
   "metadata": {},
   "outputs": [
    {
     "data": {
      "text/plain": [
       "<matplotlib.axes._subplots.AxesSubplot at 0x2e727abd190>"
      ]
     },
     "execution_count": 76,
     "metadata": {},
     "output_type": "execute_result"
    },
    {
     "data": {
      "image/png": "[encoded data removed]",
      "text/plain": [
       "<Figure size 432x288 with 2 Axes>"
      ]
     },
     "metadata": {
      "needs_background": "light"
     },
     "output_type": "display_data"
    }
   ],
   "source": [
    "cm = confusion_matrix(y_test, y_pred)\n",
    "sns.heatmap(cm, annot=True, fmt=\"d\")"
   ]
  },
  {
   "cell_type": "code",
   "execution_count": 77,
   "metadata": {},
   "outputs": [
    {
     "name": "stdout",
     "output_type": "stream",
     "text": [
      "0.7081222222222222\n"
     ]
    }
   ],
   "source": [
    "acc=accuracy_score(y_test, y_pred)\n",
    "print(acc)"
   ]
  },
  {
   "cell_type": "code",
   "execution_count": 100,
   "metadata": {},
   "outputs": [
    {
     "name": "stdout",
     "output_type": "stream",
     "text": [
      "[13:44:35] WARNING: C:/Users/Administrator/workspace/xgboost-win64_release_1.5.0/src/learner.cc:1115: Starting in XGBoost 1.3.0, the default evaluation metric used with the objective 'binary:logistic' was changed from 'error' to 'logloss'. Explicitly set eval_metric if you'd like to restore the old behavior.\n",
      "[13:46:42] WARNING: C:/Users/Administrator/workspace/xgboost-win64_release_1.5.0/src/learner.cc:1115: Starting in XGBoost 1.3.0, the default evaluation metric used with the objective 'binary:logistic' was changed from 'error' to 'logloss'. Explicitly set eval_metric if you'd like to restore the old behavior.\n",
      "[13:48:51] WARNING: C:/Users/Administrator/workspace/xgboost-win64_release_1.5.0/src/learner.cc:1115: Starting in XGBoost 1.3.0, the default evaluation metric used with the objective 'binary:logistic' was changed from 'error' to 'logloss'. Explicitly set eval_metric if you'd like to restore the old behavior.\n",
      "[13:51:02] WARNING: C:/Users/Administrator/workspace/xgboost-win64_release_1.5.0/src/learner.cc:1115: Starting in XGBoost 1.3.0, the default evaluation metric used with the objective 'binary:logistic' was changed from 'error' to 'logloss'. Explicitly set eval_metric if you'd like to restore the old behavior.\n",
      "[13:53:13] WARNING: C:/Users/Administrator/workspace/xgboost-win64_release_1.5.0/src/learner.cc:1115: Starting in XGBoost 1.3.0, the default evaluation metric used with the objective 'binary:logistic' was changed from 'error' to 'logloss'. Explicitly set eval_metric if you'd like to restore the old behavior.\n",
      "[13:55:19] WARNING: C:/Users/Administrator/workspace/xgboost-win64_release_1.5.0/src/learner.cc:1115: Starting in XGBoost 1.3.0, the default evaluation metric used with the objective 'binary:logistic' was changed from 'error' to 'logloss'. Explicitly set eval_metric if you'd like to restore the old behavior.\n",
      "[13:57:22] WARNING: C:/Users/Administrator/workspace/xgboost-win64_release_1.5.0/src/learner.cc:1115: Starting in XGBoost 1.3.0, the default evaluation metric used with the objective 'binary:logistic' was changed from 'error' to 'logloss'. Explicitly set eval_metric if you'd like to restore the old behavior.\n",
      "[13:59:27] WARNING: C:/Users/Administrator/workspace/xgboost-win64_release_1.5.0/src/learner.cc:1115: Starting in XGBoost 1.3.0, the default evaluation metric used with the objective 'binary:logistic' was changed from 'error' to 'logloss'. Explicitly set eval_metric if you'd like to restore the old behavior.\n",
      "[14:01:32] WARNING: C:/Users/Administrator/workspace/xgboost-win64_release_1.5.0/src/learner.cc:1115: Starting in XGBoost 1.3.0, the default evaluation metric used with the objective 'binary:logistic' was changed from 'error' to 'logloss'. Explicitly set eval_metric if you'd like to restore the old behavior.\n",
      "[14:03:35] WARNING: C:/Users/Administrator/workspace/xgboost-win64_release_1.5.0/src/learner.cc:1115: Starting in XGBoost 1.3.0, the default evaluation metric used with the objective 'binary:logistic' was changed from 'error' to 'logloss'. Explicitly set eval_metric if you'd like to restore the old behavior.\n",
      "XGBoost Accuracy: 0.679 (+/- 0.007)\n"
     ]
    }
   ],
   "source": [
    "from sklearn.model_selection import cross_val_score\n",
    "kcv = cross_val_score(estimator=classifier_XG, \n",
    "                      X=X_train,\n",
    "                      y=y_train,\n",
    "                      cv=10\n",
    ")\n",
    "print('XGBoost Accuracy: %0.3f (+/- %0.3f)' % (kcv.mean(), kcv.std()*2))"
   ]
  },
  {
   "cell_type": "markdown",
   "metadata": {},
   "source": [
    "## **4)Decision Tree Classifier**"
   ]
  },
  {
   "cell_type": "code",
   "execution_count": 105,
   "metadata": {},
   "outputs": [
    {
     "data": {
      "text/plain": [
       "DecisionTreeClassifier(criterion='entropy', max_depth=3, max_features='auto',\n",
       "                       min_samples_split=3, random_state=0)"
      ]
     },
     "execution_count": 105,
     "metadata": {},
     "output_type": "execute_result"
    }
   ],
   "source": [
    "from sklearn.tree import DecisionTreeClassifier\n",
    "classifier_DT = DecisionTreeClassifier(criterion = 'entropy',\n",
    "                                    max_depth = 3,\n",
    "                                    min_samples_split = 3,\n",
    "                                    max_features = \"auto\",\n",
    "                                    random_state = 0)\n",
    "classifier_DT.fit(X_train, y_train)"
   ]
  },
  {
   "cell_type": "code",
   "execution_count": 106,
   "metadata": {},
   "outputs": [
    {
     "name": "stdout",
     "output_type": "stream",
     "text": [
      "              precision    recall  f1-score   support\n",
      "\n",
      "           0       0.56      0.51      0.53    222501\n",
      "           1       0.56      0.61      0.58    227499\n",
      "\n",
      "    accuracy                           0.56    450000\n",
      "   macro avg       0.56      0.56      0.56    450000\n",
      "weighted avg       0.56      0.56      0.56    450000\n",
      "\n"
     ]
    }
   ],
   "source": [
    "y_pred = classifier_DT.predict(X_test)\n",
    "classi = print(classification_report(y_test, y_pred))"
   ]
  },
  {
   "cell_type": "code",
   "execution_count": 107,
   "metadata": {},
   "outputs": [
    {
     "data": {
      "text/plain": [
       "<matplotlib.axes._subplots.AxesSubplot at 0x1c52aee75e0>"
      ]
     },
     "execution_count": 107,
     "metadata": {},
     "output_type": "execute_result"
    },
    {
     "data": {
      "image/png": "[encoded data removed]",
      "text/plain": [
       "<Figure size 432x288 with 2 Axes>"
      ]
     },
     "metadata": {
      "needs_background": "light"
     },
     "output_type": "display_data"
    }
   ],
   "source": [
    "cm = confusion_matrix(y_test, y_pred)\n",
    "sns.heatmap(cm, annot=True, fmt=\"d\")"
   ]
  },
  {
   "cell_type": "code",
   "execution_count": 108,
   "metadata": {},
   "outputs": [
    {
     "name": "stdout",
     "output_type": "stream",
     "text": [
      "0.5603422222222222\n"
     ]
    }
   ],
   "source": [
    "acc=accuracy_score(y_test, y_pred)\n",
    "print(acc)"
   ]
  },
  {
   "cell_type": "code",
   "execution_count": 114,
   "metadata": {},
   "outputs": [
    {
     "name": "stdout",
     "output_type": "stream",
     "text": [
      "Logistic Regression Accuracy: 0.563 (+/- 0.008)\n"
     ]
    }
   ],
   "source": [
    "from sklearn.model_selection import cross_val_score\n",
    "kcv_DT = cross_val_score(estimator=classifier_DT, \n",
    "                      X=X_train,\n",
    "                      y=y_train,\n",
    "                      cv=10\n",
    ")\n",
    "print('Logistic Regression Accuracy: %0.3f (+/- %0.3f)' % (kcv_DT.mean(), kcv_DT.std()*2))"
   ]
  },
  {
   "cell_type": "markdown",
   "metadata": {},
   "source": [
    "## **5)Naive Bayes** "
   ]
  },
  {
   "cell_type": "code",
   "execution_count": 115,
   "metadata": {},
   "outputs": [
    {
     "data": {
      "text/plain": [
       "GaussianNB()"
      ]
     },
     "execution_count": 115,
     "metadata": {},
     "output_type": "execute_result"
    }
   ],
   "source": [
    "from sklearn.naive_bayes import GaussianNB\n",
    "classifier_NB = GaussianNB()\n",
    "classifier_NB.fit(X_train, y_train)"
   ]
  },
  {
   "cell_type": "code",
   "execution_count": 116,
   "metadata": {},
   "outputs": [
    {
     "name": "stdout",
     "output_type": "stream",
     "text": [
      "              precision    recall  f1-score   support\n",
      "\n",
      "           0       0.56      0.78      0.65    222501\n",
      "           1       0.65      0.41      0.51    227499\n",
      "\n",
      "    accuracy                           0.59    450000\n",
      "   macro avg       0.61      0.59      0.58    450000\n",
      "weighted avg       0.61      0.59      0.58    450000\n",
      "\n"
     ]
    }
   ],
   "source": [
    "y_pred = classifier_NB.predict(X_test)\n",
    "classi = print(classification_report(y_test, y_pred))"
   ]
  },
  {
   "cell_type": "code",
   "execution_count": 117,
   "metadata": {},
   "outputs": [
    {
     "data": {
      "text/plain": [
       "<matplotlib.axes._subplots.AxesSubplot at 0x1c52a961f40>"
      ]
     },
     "execution_count": 117,
     "metadata": {},
     "output_type": "execute_result"
    },
    {
     "data": {
      "image/png": "[encoded data removed]",
      "text/plain": [
       "<Figure size 432x288 with 2 Axes>"
      ]
     },
     "metadata": {
      "needs_background": "light"
     },
     "output_type": "display_data"
    }
   ],
   "source": [
    "cm = confusion_matrix(y_test, y_pred)\n",
    "sns.heatmap(cm, annot=True, fmt=\"d\")"
   ]
  },
  {
   "cell_type": "code",
   "execution_count": 118,
   "metadata": {},
   "outputs": [
    {
     "name": "stdout",
     "output_type": "stream",
     "text": [
      "0.5920977777777777\n"
     ]
    }
   ],
   "source": [
    "acc=accuracy_score(y_test, y_pred)\n",
    "print(acc)"
   ]
  },
  {
   "cell_type": "code",
   "execution_count": 121,
   "metadata": {},
   "outputs": [
    {
     "name": "stdout",
     "output_type": "stream",
     "text": [
      "Logistic Regression Accuracy: 0.590 (+/- 0.011)\n"
     ]
    }
   ],
   "source": [
    "from sklearn.model_selection import cross_val_score\n",
    "kcv_NB = cross_val_score(estimator=classifier_NB, \n",
    "                      X=X_train,\n",
    "                      y=y_train,\n",
    "                      cv=10\n",
    ")\n",
    "print('Logistic Regression Accuracy: %0.3f (+/- %0.3f)' % (kcv_NB.mean(), kcv_NB.std()*2))"
   ]
  },
  {
   "cell_type": "markdown",
   "metadata": {},
   "source": [
    "## **Hyperparametric Tuning** \n",
    "\n",
    "1) XGBoost using RandomizedSearch CV"
   ]
  },
  {
   "cell_type": "markdown",
   "metadata": {},
   "source": [
    "## **1) XGBoost**"
   ]
  },
  {
   "cell_type": "code",
   "execution_count": 32,
   "metadata": {},
   "outputs": [],
   "source": [
    "params={\n",
    " \"learning_rate\"    : [0.05, 0.10, 0.15, 0.20, 0.25, 0.30 ] ,\n",
    " \"max_depth\"        : [ 3, 4, 5, 6, 8, 10, 12, 15],\n",
    " \"min_child_weight\" : [ 1, 3, 5, 7 ],\n",
    " \"gamma\"            : [ 0.0, 0.1, 0.2 , 0.3, 0.4 ],\n",
    " \"colsample_bytree\" : [ 0.3, 0.4, 0.5 , 0.7 ]\n",
    "    \n",
    "}"
   ]
  },
  {
   "cell_type": "code",
   "execution_count": 33,
   "metadata": {},
   "outputs": [],
   "source": [
    "def timer(start_time=None):\n",
    "    if not start_time:\n",
    "        start_time = datetime.now()\n",
    "        return start_time\n",
    "    elif start_time:\n",
    "        thour, temp_sec = divmod((datetime.now() - start_time).total_seconds(), 3600)\n",
    "        tmin, tsec = divmod(temp_sec, 60)\n",
    "        print('\\n Time taken: %i hours %i minutes and %s seconds.' % (thour, tmin, round(tsec, 2)))"
   ]
  },
  {
   "cell_type": "code",
   "execution_count": 34,
   "metadata": {},
   "outputs": [],
   "source": [
    "from sklearn.model_selection import GridSearchCV, RandomizedSearchCV"
   ]
  },
  {
   "cell_type": "code",
   "execution_count": 35,
   "metadata": {},
   "outputs": [],
   "source": [
    "random_search=RandomizedSearchCV(estimator = classifier_XG,\n",
    "                                 param_distributions=params,\n",
    "                                 n_iter=5,\n",
    "                                 scoring='roc_auc',\n",
    "                                 n_jobs=-1,\n",
    "                                 cv=5,\n",
    "                                 verbose=3\n",
    "                                )"
   ]
  },
  {
   "cell_type": "code",
   "execution_count": null,
   "metadata": {
    "scrolled": true
   },
   "outputs": [
    {
     "name": "stdout",
     "output_type": "stream",
     "text": [
      "Fitting 5 folds for each of 5 candidates, totalling 25 fits\n"
     ]
    },
    {
     "name": "stderr",
     "output_type": "stream",
     "text": [
      "[Parallel(n_jobs=-1)]: Using backend LokyBackend with 4 concurrent workers.\n"
     ]
    }
   ],
   "source": [
    "from datetime import datetime\n",
    "# Here we go\n",
    "start_time = timer(None) # timing starts from this point for \"start_time\" variable\n",
    "random_search.fit(X_train,y_train)\n",
    "timer(start_time) # timing ends here for \"start_time\" variable"
   ]
  },
  {
   "cell_type": "code",
   "execution_count": null,
   "metadata": {},
   "outputs": [],
   "source": [
    "random_search.best_estimator_"
   ]
  },
  {
   "cell_type": "code",
   "execution_count": null,
   "metadata": {},
   "outputs": [],
   "source": [
    "random_search.best_params_"
   ]
  },
  {
   "cell_type": "markdown",
   "metadata": {},
   "source": [
    "## **Final Predictions** "
   ]
  },
  {
   "cell_type": "code",
   "execution_count": 126,
   "metadata": {
    "scrolled": false
   },
   "outputs": [
    {
     "ename": "KeyError",
     "evalue": "\"['id'] not in index\"",
     "output_type": "error",
     "traceback": [
      "\u001b[1;31m---------------------------------------------------------------------------\u001b[0m",
      "\u001b[1;31mKeyError\u001b[0m                                  Traceback (most recent call last)",
      "\u001b[1;32m<ipython-input-126-d8d28f9f5ec2>\u001b[0m in \u001b[0;36m<module>\u001b[1;34m\u001b[0m\n\u001b[1;32m----> 1\u001b[1;33m \u001b[0mfinal_test_dataset\u001b[0m \u001b[1;33m=\u001b[0m \u001b[0mdata_test\u001b[0m\u001b[1;33m[\u001b[0m\u001b[1;33m[\u001b[0m\u001b[1;34m'id'\u001b[0m\u001b[1;33m,\u001b[0m \u001b[1;34m'f1'\u001b[0m\u001b[1;33m,\u001b[0m \u001b[1;34m'f10'\u001b[0m\u001b[1;33m,\u001b[0m \u001b[1;34m'f11'\u001b[0m\u001b[1;33m,\u001b[0m \u001b[1;34m'f14'\u001b[0m\u001b[1;33m,\u001b[0m \u001b[1;34m'f15'\u001b[0m\u001b[1;33m,\u001b[0m \u001b[1;34m'f16'\u001b[0m\u001b[1;33m,\u001b[0m \u001b[1;34m'f17'\u001b[0m\u001b[1;33m,\u001b[0m \u001b[1;34m'f2'\u001b[0m\u001b[1;33m,\u001b[0m \u001b[1;34m'f20'\u001b[0m\u001b[1;33m,\u001b[0m \u001b[1;34m'f21'\u001b[0m\u001b[1;33m,\u001b[0m \u001b[1;34m'f22'\u001b[0m\u001b[1;33m,\u001b[0m \u001b[1;34m'f24'\u001b[0m\u001b[1;33m,\u001b[0m \u001b[1;34m'f25'\u001b[0m\u001b[1;33m,\u001b[0m \u001b[1;34m'f26'\u001b[0m\u001b[1;33m,\u001b[0m \u001b[1;34m'f27'\u001b[0m\u001b[1;33m,\u001b[0m \u001b[1;34m'f28'\u001b[0m\u001b[1;33m,\u001b[0m \u001b[1;34m'f3'\u001b[0m\u001b[1;33m,\u001b[0m \u001b[1;34m'f30'\u001b[0m\u001b[1;33m,\u001b[0m \u001b[1;34m'f31'\u001b[0m\u001b[1;33m,\u001b[0m \u001b[1;34m'f32'\u001b[0m\u001b[1;33m,\u001b[0m \u001b[1;34m'f33'\u001b[0m\u001b[1;33m,\u001b[0m \u001b[1;34m'f34'\u001b[0m\u001b[1;33m,\u001b[0m \u001b[1;34m'f36'\u001b[0m\u001b[1;33m,\u001b[0m \u001b[1;34m'f37'\u001b[0m\u001b[1;33m,\u001b[0m \u001b[1;34m'f4'\u001b[0m\u001b[1;33m,\u001b[0m \u001b[1;34m'f40'\u001b[0m\u001b[1;33m,\u001b[0m \u001b[1;34m'f41'\u001b[0m\u001b[1;33m,\u001b[0m \u001b[1;34m'f42'\u001b[0m\u001b[1;33m,\u001b[0m \u001b[1;34m'f43'\u001b[0m\u001b[1;33m,\u001b[0m \u001b[1;34m'f44'\u001b[0m\u001b[1;33m,\u001b[0m \u001b[1;34m'f45'\u001b[0m\u001b[1;33m,\u001b[0m \u001b[1;34m'f46'\u001b[0m\u001b[1;33m,\u001b[0m \u001b[1;34m'f47'\u001b[0m\u001b[1;33m,\u001b[0m \u001b[1;34m'f48'\u001b[0m\u001b[1;33m,\u001b[0m \u001b[1;34m'f49'\u001b[0m\u001b[1;33m,\u001b[0m \u001b[1;34m'f5'\u001b[0m\u001b[1;33m,\u001b[0m \u001b[1;34m'f50'\u001b[0m\u001b[1;33m,\u001b[0m \u001b[1;34m'f51'\u001b[0m\u001b[1;33m,\u001b[0m \u001b[1;34m'f53'\u001b[0m\u001b[1;33m,\u001b[0m \u001b[1;34m'f54'\u001b[0m\u001b[1;33m,\u001b[0m \u001b[1;34m'f55'\u001b[0m\u001b[1;33m,\u001b[0m \u001b[1;34m'f57'\u001b[0m\u001b[1;33m,\u001b[0m \u001b[1;34m'f58'\u001b[0m\u001b[1;33m,\u001b[0m \u001b[1;34m'f59'\u001b[0m\u001b[1;33m,\u001b[0m \u001b[1;34m'f60'\u001b[0m\u001b[1;33m,\u001b[0m \u001b[1;34m'f61'\u001b[0m\u001b[1;33m,\u001b[0m \u001b[1;34m'f62'\u001b[0m\u001b[1;33m,\u001b[0m \u001b[1;34m'f64'\u001b[0m\u001b[1;33m,\u001b[0m \u001b[1;34m'f66'\u001b[0m\u001b[1;33m,\u001b[0m \u001b[1;34m'f67'\u001b[0m\u001b[1;33m,\u001b[0m \u001b[1;34m'f70'\u001b[0m\u001b[1;33m,\u001b[0m \u001b[1;34m'f71'\u001b[0m\u001b[1;33m,\u001b[0m \u001b[1;34m'f76'\u001b[0m\u001b[1;33m,\u001b[0m \u001b[1;34m'f77'\u001b[0m\u001b[1;33m,\u001b[0m \u001b[1;34m'f8'\u001b[0m\u001b[1;33m,\u001b[0m \u001b[1;34m'f80'\u001b[0m\u001b[1;33m,\u001b[0m \u001b[1;34m'f81'\u001b[0m\u001b[1;33m,\u001b[0m \u001b[1;34m'f82'\u001b[0m\u001b[1;33m,\u001b[0m \u001b[1;34m'f83'\u001b[0m\u001b[1;33m,\u001b[0m \u001b[1;34m'f87'\u001b[0m\u001b[1;33m,\u001b[0m \u001b[1;34m'f89'\u001b[0m\u001b[1;33m,\u001b[0m \u001b[1;34m'f9'\u001b[0m\u001b[1;33m,\u001b[0m \u001b[1;34m'f90'\u001b[0m\u001b[1;33m,\u001b[0m \u001b[1;34m'f91'\u001b[0m\u001b[1;33m,\u001b[0m \u001b[1;34m'f93'\u001b[0m\u001b[1;33m,\u001b[0m \u001b[1;34m'f94'\u001b[0m\u001b[1;33m,\u001b[0m \u001b[1;34m'f95'\u001b[0m\u001b[1;33m,\u001b[0m \u001b[1;34m'f96'\u001b[0m\u001b[1;33m,\u001b[0m \u001b[1;34m'f97'\u001b[0m\u001b[1;33m,\u001b[0m \u001b[1;34m'f98'\u001b[0m\u001b[1;33m]\u001b[0m\u001b[1;33m]\u001b[0m\u001b[1;33m\u001b[0m\u001b[1;33m\u001b[0m\u001b[0m\n\u001b[0m",
      "\u001b[1;32m~\\anaconda3\\lib\\site-packages\\pandas\\core\\frame.py\u001b[0m in \u001b[0;36m__getitem__\u001b[1;34m(self, key)\u001b[0m\n\u001b[0;32m   2804\u001b[0m             \u001b[1;32mif\u001b[0m \u001b[0mis_iterator\u001b[0m\u001b[1;33m(\u001b[0m\u001b[0mkey\u001b[0m\u001b[1;33m)\u001b[0m\u001b[1;33m:\u001b[0m\u001b[1;33m\u001b[0m\u001b[1;33m\u001b[0m\u001b[0m\n\u001b[0;32m   2805\u001b[0m                 \u001b[0mkey\u001b[0m \u001b[1;33m=\u001b[0m \u001b[0mlist\u001b[0m\u001b[1;33m(\u001b[0m\u001b[0mkey\u001b[0m\u001b[1;33m)\u001b[0m\u001b[1;33m\u001b[0m\u001b[1;33m\u001b[0m\u001b[0m\n\u001b[1;32m-> 2806\u001b[1;33m             \u001b[0mindexer\u001b[0m \u001b[1;33m=\u001b[0m \u001b[0mself\u001b[0m\u001b[1;33m.\u001b[0m\u001b[0mloc\u001b[0m\u001b[1;33m.\u001b[0m\u001b[0m_get_listlike_indexer\u001b[0m\u001b[1;33m(\u001b[0m\u001b[0mkey\u001b[0m\u001b[1;33m,\u001b[0m \u001b[0maxis\u001b[0m\u001b[1;33m=\u001b[0m\u001b[1;36m1\u001b[0m\u001b[1;33m,\u001b[0m \u001b[0mraise_missing\u001b[0m\u001b[1;33m=\u001b[0m\u001b[1;32mTrue\u001b[0m\u001b[1;33m)\u001b[0m\u001b[1;33m[\u001b[0m\u001b[1;36m1\u001b[0m\u001b[1;33m]\u001b[0m\u001b[1;33m\u001b[0m\u001b[1;33m\u001b[0m\u001b[0m\n\u001b[0m\u001b[0;32m   2807\u001b[0m \u001b[1;33m\u001b[0m\u001b[0m\n\u001b[0;32m   2808\u001b[0m         \u001b[1;31m# take() does not accept boolean indexers\u001b[0m\u001b[1;33m\u001b[0m\u001b[1;33m\u001b[0m\u001b[1;33m\u001b[0m\u001b[0m\n",
      "\u001b[1;32m~\\anaconda3\\lib\\site-packages\\pandas\\core\\indexing.py\u001b[0m in \u001b[0;36m_get_listlike_indexer\u001b[1;34m(self, key, axis, raise_missing)\u001b[0m\n\u001b[0;32m   1550\u001b[0m             \u001b[0mkeyarr\u001b[0m\u001b[1;33m,\u001b[0m \u001b[0mindexer\u001b[0m\u001b[1;33m,\u001b[0m \u001b[0mnew_indexer\u001b[0m \u001b[1;33m=\u001b[0m \u001b[0max\u001b[0m\u001b[1;33m.\u001b[0m\u001b[0m_reindex_non_unique\u001b[0m\u001b[1;33m(\u001b[0m\u001b[0mkeyarr\u001b[0m\u001b[1;33m)\u001b[0m\u001b[1;33m\u001b[0m\u001b[1;33m\u001b[0m\u001b[0m\n\u001b[0;32m   1551\u001b[0m \u001b[1;33m\u001b[0m\u001b[0m\n\u001b[1;32m-> 1552\u001b[1;33m         self._validate_read_indexer(\n\u001b[0m\u001b[0;32m   1553\u001b[0m             \u001b[0mkeyarr\u001b[0m\u001b[1;33m,\u001b[0m \u001b[0mindexer\u001b[0m\u001b[1;33m,\u001b[0m \u001b[0mo\u001b[0m\u001b[1;33m.\u001b[0m\u001b[0m_get_axis_number\u001b[0m\u001b[1;33m(\u001b[0m\u001b[0maxis\u001b[0m\u001b[1;33m)\u001b[0m\u001b[1;33m,\u001b[0m \u001b[0mraise_missing\u001b[0m\u001b[1;33m=\u001b[0m\u001b[0mraise_missing\u001b[0m\u001b[1;33m\u001b[0m\u001b[1;33m\u001b[0m\u001b[0m\n\u001b[0;32m   1554\u001b[0m         )\n",
      "\u001b[1;32m~\\anaconda3\\lib\\site-packages\\pandas\\core\\indexing.py\u001b[0m in \u001b[0;36m_validate_read_indexer\u001b[1;34m(self, key, indexer, axis, raise_missing)\u001b[0m\n\u001b[0;32m   1644\u001b[0m             \u001b[1;32mif\u001b[0m \u001b[1;32mnot\u001b[0m \u001b[1;33m(\u001b[0m\u001b[0mself\u001b[0m\u001b[1;33m.\u001b[0m\u001b[0mname\u001b[0m \u001b[1;33m==\u001b[0m \u001b[1;34m\"loc\"\u001b[0m \u001b[1;32mand\u001b[0m \u001b[1;32mnot\u001b[0m \u001b[0mraise_missing\u001b[0m\u001b[1;33m)\u001b[0m\u001b[1;33m:\u001b[0m\u001b[1;33m\u001b[0m\u001b[1;33m\u001b[0m\u001b[0m\n\u001b[0;32m   1645\u001b[0m                 \u001b[0mnot_found\u001b[0m \u001b[1;33m=\u001b[0m \u001b[0mlist\u001b[0m\u001b[1;33m(\u001b[0m\u001b[0mset\u001b[0m\u001b[1;33m(\u001b[0m\u001b[0mkey\u001b[0m\u001b[1;33m)\u001b[0m \u001b[1;33m-\u001b[0m \u001b[0mset\u001b[0m\u001b[1;33m(\u001b[0m\u001b[0max\u001b[0m\u001b[1;33m)\u001b[0m\u001b[1;33m)\u001b[0m\u001b[1;33m\u001b[0m\u001b[1;33m\u001b[0m\u001b[0m\n\u001b[1;32m-> 1646\u001b[1;33m                 \u001b[1;32mraise\u001b[0m \u001b[0mKeyError\u001b[0m\u001b[1;33m(\u001b[0m\u001b[1;34mf\"{not_found} not in index\"\u001b[0m\u001b[1;33m)\u001b[0m\u001b[1;33m\u001b[0m\u001b[1;33m\u001b[0m\u001b[0m\n\u001b[0m\u001b[0;32m   1647\u001b[0m \u001b[1;33m\u001b[0m\u001b[0m\n\u001b[0;32m   1648\u001b[0m             \u001b[1;31m# we skip the warning on Categorical/Interval\u001b[0m\u001b[1;33m\u001b[0m\u001b[1;33m\u001b[0m\u001b[1;33m\u001b[0m\u001b[0m\n",
      "\u001b[1;31mKeyError\u001b[0m: \"['id'] not in index\""
     ]
    }
   ],
   "source": [
    "final_test_dataset = data_test[['id', 'f1', 'f10', 'f11', 'f14', 'f15', 'f16', 'f17', 'f2', 'f20', 'f21', 'f22', 'f24', 'f25', 'f26', 'f27', 'f28', 'f3', 'f30', 'f31', 'f32', 'f33', 'f34', 'f36', 'f37', 'f4', 'f40', 'f41', 'f42', 'f43', 'f44', 'f45', 'f46', 'f47', 'f48', 'f49', 'f5', 'f50', 'f51', 'f53', 'f54', 'f55', 'f57', 'f58', 'f59', 'f60', 'f61', 'f62', 'f64', 'f66', 'f67', 'f70', 'f71', 'f76', 'f77', 'f8', 'f80', 'f81', 'f82', 'f83', 'f87', 'f89', 'f9', 'f90', 'f91', 'f93', 'f94', 'f95', 'f96', 'f97', 'f98']]"
   ]
  },
  {
   "cell_type": "code",
   "execution_count": 93,
   "metadata": {},
   "outputs": [
    {
     "data": {
      "text/plain": [
       "array([1, 1, 1, ..., 1, 1, 1], dtype=int64)"
      ]
     },
     "execution_count": 93,
     "metadata": {},
     "output_type": "execute_result"
    }
   ],
   "source": [
    "model_predict_LR = classifier_LR.predict(final_test_dataset)\n",
    "model_predict_LR"
   ]
  },
  {
   "cell_type": "code",
   "execution_count": 94,
   "metadata": {},
   "outputs": [],
   "source": [
    "final_submission = pd.DataFrame({'target': model_predict_LR})"
   ]
  },
  {
   "cell_type": "code",
   "execution_count": 95,
   "metadata": {},
   "outputs": [
    {
     "data": {
      "text/plain": [
       "(540000, 1)"
      ]
     },
     "execution_count": 95,
     "metadata": {},
     "output_type": "execute_result"
    }
   ],
   "source": [
    "final_submission.head()\n",
    "final_submission.shape"
   ]
  },
  {
   "cell_type": "code",
   "execution_count": 108,
   "metadata": {},
   "outputs": [],
   "source": [
    "#final_submission =final_submission .rename(index = {'id': 'id'}, inplace = False)"
   ]
  },
  {
   "cell_type": "code",
   "execution_count": 110,
   "metadata": {},
   "outputs": [],
   "source": [
    "final_submission['id'] =final_submission.index "
   ]
  },
  {
   "cell_type": "code",
   "execution_count": 131,
   "metadata": {},
   "outputs": [],
   "source": [
    "final_submission.to_csv('TPS_Novem_2021',index=False)"
   ]
  },
  {
   "cell_type": "code",
   "execution_count": 117,
   "metadata": {},
   "outputs": [
    {
     "data": {
      "text/html": [
       "<div>\n",
       "<style scoped>\n",
       "    .dataframe tbody tr th:only-of-type {\n",
       "        vertical-align: middle;\n",
       "    }\n",
       "\n",
       "    .dataframe tbody tr th {\n",
       "        vertical-align: top;\n",
       "    }\n",
       "\n",
       "    .dataframe thead th {\n",
       "        text-align: right;\n",
       "    }\n",
       "</style>\n",
       "<table border=\"1\" class=\"dataframe\">\n",
       "  <thead>\n",
       "    <tr style=\"text-align: right;\">\n",
       "      <th></th>\n",
       "      <th>target</th>\n",
       "    </tr>\n",
       "  </thead>\n",
       "  <tbody>\n",
       "    <tr>\n",
       "      <th>0</th>\n",
       "      <td>1</td>\n",
       "    </tr>\n",
       "    <tr>\n",
       "      <th>1</th>\n",
       "      <td>1</td>\n",
       "    </tr>\n",
       "    <tr>\n",
       "      <th>2</th>\n",
       "      <td>1</td>\n",
       "    </tr>\n",
       "    <tr>\n",
       "      <th>3</th>\n",
       "      <td>0</td>\n",
       "    </tr>\n",
       "    <tr>\n",
       "      <th>4</th>\n",
       "      <td>1</td>\n",
       "    </tr>\n",
       "    <tr>\n",
       "      <th>...</th>\n",
       "      <td>...</td>\n",
       "    </tr>\n",
       "    <tr>\n",
       "      <th>539995</th>\n",
       "      <td>1</td>\n",
       "    </tr>\n",
       "    <tr>\n",
       "      <th>539996</th>\n",
       "      <td>1</td>\n",
       "    </tr>\n",
       "    <tr>\n",
       "      <th>539997</th>\n",
       "      <td>1</td>\n",
       "    </tr>\n",
       "    <tr>\n",
       "      <th>539998</th>\n",
       "      <td>1</td>\n",
       "    </tr>\n",
       "    <tr>\n",
       "      <th>539999</th>\n",
       "      <td>1</td>\n",
       "    </tr>\n",
       "  </tbody>\n",
       "</table>\n",
       "<p>540000 rows × 1 columns</p>\n",
       "</div>"
      ],
      "text/plain": [
       "        target\n",
       "0            1\n",
       "1            1\n",
       "2            1\n",
       "3            0\n",
       "4            1\n",
       "...        ...\n",
       "539995       1\n",
       "539996       1\n",
       "539997       1\n",
       "539998       1\n",
       "539999       1\n",
       "\n",
       "[540000 rows x 1 columns]"
      ]
     },
     "execution_count": 117,
     "metadata": {},
     "output_type": "execute_result"
    }
   ],
   "source": [
    "final_submission.drop(columns='id', axis=1)"
   ]
  },
  {
   "cell_type": "code",
   "execution_count": 129,
   "metadata": {},
   "outputs": [],
   "source": [
    "final_submission['id'] = data_test['id'].astype(int)"
   ]
  },
  {
   "cell_type": "code",
   "execution_count": 130,
   "metadata": {},
   "outputs": [
    {
     "data": {
      "text/html": [
       "<div>\n",
       "<style scoped>\n",
       "    .dataframe tbody tr th:only-of-type {\n",
       "        vertical-align: middle;\n",
       "    }\n",
       "\n",
       "    .dataframe tbody tr th {\n",
       "        vertical-align: top;\n",
       "    }\n",
       "\n",
       "    .dataframe thead th {\n",
       "        text-align: right;\n",
       "    }\n",
       "</style>\n",
       "<table border=\"1\" class=\"dataframe\">\n",
       "  <thead>\n",
       "    <tr style=\"text-align: right;\">\n",
       "      <th></th>\n",
       "      <th>target</th>\n",
       "      <th>id</th>\n",
       "    </tr>\n",
       "  </thead>\n",
       "  <tbody>\n",
       "    <tr>\n",
       "      <th>0</th>\n",
       "      <td>1</td>\n",
       "      <td>600000</td>\n",
       "    </tr>\n",
       "    <tr>\n",
       "      <th>1</th>\n",
       "      <td>1</td>\n",
       "      <td>600001</td>\n",
       "    </tr>\n",
       "    <tr>\n",
       "      <th>2</th>\n",
       "      <td>1</td>\n",
       "      <td>600002</td>\n",
       "    </tr>\n",
       "    <tr>\n",
       "      <th>3</th>\n",
       "      <td>0</td>\n",
       "      <td>600003</td>\n",
       "    </tr>\n",
       "    <tr>\n",
       "      <th>4</th>\n",
       "      <td>1</td>\n",
       "      <td>600004</td>\n",
       "    </tr>\n",
       "  </tbody>\n",
       "</table>\n",
       "</div>"
      ],
      "text/plain": [
       "   target      id\n",
       "0       1  600000\n",
       "1       1  600001\n",
       "2       1  600002\n",
       "3       0  600003\n",
       "4       1  600004"
      ]
     },
     "execution_count": 130,
     "metadata": {},
     "output_type": "execute_result"
    }
   ],
   "source": [
    "final_submission.head()"
   ]
  },
  {
   "cell_type": "code",
   "execution_count": null,
   "metadata": {},
   "outputs": [],
   "source": []
  },
  {
   "cell_type": "code",
   "execution_count": null,
   "metadata": {},
   "outputs": [],
   "source": [
    "'"
   ]
  },
  {
   "cell_type": "code",
   "execution_count": null,
   "metadata": {},
   "outputs": [],
   "source": []
  }
 ],
 "metadata": {
  "colab": {
   "name": "Untitled5.ipynb",
   "provenance": []
  },
  "kernelspec": {
   "display_name": "Python 3",
   "language": "python",
   "name": "python3"
  },
  "language_info": {
   "codemirror_mode": {
    "name": "ipython",
    "version": 3
   },
   "file_extension": ".py",
   "mimetype": "text/x-python",
   "name": "python",
   "nbconvert_exporter": "python",
   "pygments_lexer": "ipython3",
   "version": "3.8.3"
  },
  "widgets": {
   "application/vnd.jupyter.widget-state+json": {
    "01296c21c7dd4959bf6245c15f172b66": {
     "model_module": "@jupyter-widgets/controls",
     "model_module_version": "1.5.0",
     "model_name": "HBoxModel",
     "state": {
      "_dom_classes": [],
      "_model_module": "@jupyter-widgets/controls",
      "_model_module_version": "1.5.0",
      "_model_name": "HBoxModel",
      "_view_count": null,
      "_view_module": "@jupyter-widgets/controls",
      "_view_module_version": "1.5.0",
      "_view_name": "HBoxView",
      "box_style": "",
      "children": [
       "IPY_MODEL_312204b1d8c74ed29a5edf1993abbe4d",
       "IPY_MODEL_5e66981a0200482b921d3fe674e9c90f",
       "IPY_MODEL_bcaeebe499ad4819b424fb3770a6b3ee"
      ],
      "layout": "IPY_MODEL_c1b77da514e44b53a966c7bd98942334"
     }
    },
    "205a1c6c396a4db88c77e93128440246": {
     "model_module": "@jupyter-widgets/base",
     "model_module_version": "1.2.0",
     "model_name": "LayoutModel",
     "state": {
      "_model_module": "@jupyter-widgets/base",
      "_model_module_version": "1.2.0",
      "_model_name": "LayoutModel",
      "_view_count": null,
      "_view_module": "@jupyter-widgets/base",
      "_view_module_version": "1.2.0",
      "_view_name": "LayoutView",
      "align_content": null,
      "align_items": null,
      "align_self": null,
      "border": null,
      "bottom": null,
      "display": null,
      "flex": null,
      "flex_flow": null,
      "grid_area": null,
      "grid_auto_columns": null,
      "grid_auto_flow": null,
      "grid_auto_rows": null,
      "grid_column": null,
      "grid_gap": null,
      "grid_row": null,
      "grid_template_areas": null,
      "grid_template_columns": null,
      "grid_template_rows": null,
      "height": null,
      "justify_content": null,
      "justify_items": null,
      "left": null,
      "margin": null,
      "max_height": null,
      "max_width": null,
      "min_height": null,
      "min_width": null,
      "object_fit": null,
      "object_position": null,
      "order": null,
      "overflow": null,
      "overflow_x": null,
      "overflow_y": null,
      "padding": null,
      "right": null,
      "top": null,
      "visibility": null,
      "width": null
     }
    },
    "312204b1d8c74ed29a5edf1993abbe4d": {
     "model_module": "@jupyter-widgets/controls",
     "model_module_version": "1.5.0",
     "model_name": "HTMLModel",
     "state": {
      "_dom_classes": [],
      "_model_module": "@jupyter-widgets/controls",
      "_model_module_version": "1.5.0",
      "_model_name": "HTMLModel",
      "_view_count": null,
      "_view_module": "@jupyter-widgets/controls",
      "_view_module_version": "1.5.0",
      "_view_name": "HTMLView",
      "description": "",
      "description_tooltip": null,
      "layout": "IPY_MODEL_205a1c6c396a4db88c77e93128440246",
      "placeholder": "​",
      "style": "IPY_MODEL_ee0d087e5c944c1db00f694ff0a5fa2c",
      "value": "  0%"
     }
    },
    "4bc636f519fa474aa4efeb47d2ecd8f9": {
     "model_module": "@jupyter-widgets/controls",
     "model_module_version": "1.5.0",
     "model_name": "ProgressStyleModel",
     "state": {
      "_model_module": "@jupyter-widgets/controls",
      "_model_module_version": "1.5.0",
      "_model_name": "ProgressStyleModel",
      "_view_count": null,
      "_view_module": "@jupyter-widgets/base",
      "_view_module_version": "1.2.0",
      "_view_name": "StyleView",
      "bar_color": null,
      "description_width": ""
     }
    },
    "4f215e0f5a2049278873050931234175": {
     "model_module": "@jupyter-widgets/base",
     "model_module_version": "1.2.0",
     "model_name": "LayoutModel",
     "state": {
      "_model_module": "@jupyter-widgets/base",
      "_model_module_version": "1.2.0",
      "_model_name": "LayoutModel",
      "_view_count": null,
      "_view_module": "@jupyter-widgets/base",
      "_view_module_version": "1.2.0",
      "_view_name": "LayoutView",
      "align_content": null,
      "align_items": null,
      "align_self": null,
      "border": null,
      "bottom": null,
      "display": null,
      "flex": null,
      "flex_flow": null,
      "grid_area": null,
      "grid_auto_columns": null,
      "grid_auto_flow": null,
      "grid_auto_rows": null,
      "grid_column": null,
      "grid_gap": null,
      "grid_row": null,
      "grid_template_areas": null,
      "grid_template_columns": null,
      "grid_template_rows": null,
      "height": null,
      "justify_content": null,
      "justify_items": null,
      "left": null,
      "margin": null,
      "max_height": null,
      "max_width": null,
      "min_height": null,
      "min_width": null,
      "object_fit": null,
      "object_position": null,
      "order": null,
      "overflow": null,
      "overflow_x": null,
      "overflow_y": null,
      "padding": null,
      "right": null,
      "top": null,
      "visibility": null,
      "width": null
     }
    },
    "5e66981a0200482b921d3fe674e9c90f": {
     "model_module": "@jupyter-widgets/controls",
     "model_module_version": "1.5.0",
     "model_name": "FloatProgressModel",
     "state": {
      "_dom_classes": [],
      "_model_module": "@jupyter-widgets/controls",
      "_model_module_version": "1.5.0",
      "_model_name": "FloatProgressModel",
      "_view_count": null,
      "_view_module": "@jupyter-widgets/controls",
      "_view_module_version": "1.5.0",
      "_view_name": "ProgressView",
      "bar_style": "",
      "description": "",
      "description_tooltip": null,
      "layout": "IPY_MODEL_4f215e0f5a2049278873050931234175",
      "max": 50,
      "min": 0,
      "orientation": "horizontal",
      "style": "IPY_MODEL_4bc636f519fa474aa4efeb47d2ecd8f9",
      "value": 0
     }
    },
    "bcaeebe499ad4819b424fb3770a6b3ee": {
     "model_module": "@jupyter-widgets/controls",
     "model_module_version": "1.5.0",
     "model_name": "HTMLModel",
     "state": {
      "_dom_classes": [],
      "_model_module": "@jupyter-widgets/controls",
      "_model_module_version": "1.5.0",
      "_model_name": "HTMLModel",
      "_view_count": null,
      "_view_module": "@jupyter-widgets/controls",
      "_view_module_version": "1.5.0",
      "_view_name": "HTMLView",
      "description": "",
      "description_tooltip": null,
      "layout": "IPY_MODEL_f0be48741a7f4d91980cbbb03ad64368",
      "placeholder": "​",
      "style": "IPY_MODEL_cdf5105793014ada972dd2d010a7bd74",
      "value": " 0/50 [00:00&lt;?, ?it/s]"
     }
    },
    "c1b77da514e44b53a966c7bd98942334": {
     "model_module": "@jupyter-widgets/base",
     "model_module_version": "1.2.0",
     "model_name": "LayoutModel",
     "state": {
      "_model_module": "@jupyter-widgets/base",
      "_model_module_version": "1.2.0",
      "_model_name": "LayoutModel",
      "_view_count": null,
      "_view_module": "@jupyter-widgets/base",
      "_view_module_version": "1.2.0",
      "_view_name": "LayoutView",
      "align_content": null,
      "align_items": null,
      "align_self": null,
      "border": null,
      "bottom": null,
      "display": null,
      "flex": null,
      "flex_flow": null,
      "grid_area": null,
      "grid_auto_columns": null,
      "grid_auto_flow": null,
      "grid_auto_rows": null,
      "grid_column": null,
      "grid_gap": null,
      "grid_row": null,
      "grid_template_areas": null,
      "grid_template_columns": null,
      "grid_template_rows": null,
      "height": null,
      "justify_content": null,
      "justify_items": null,
      "left": null,
      "margin": null,
      "max_height": null,
      "max_width": null,
      "min_height": null,
      "min_width": null,
      "object_fit": null,
      "object_position": null,
      "order": null,
      "overflow": null,
      "overflow_x": null,
      "overflow_y": null,
      "padding": null,
      "right": null,
      "top": null,
      "visibility": null,
      "width": null
     }
    },
    "cdf5105793014ada972dd2d010a7bd74": {
     "model_module": "@jupyter-widgets/controls",
     "model_module_version": "1.5.0",
     "model_name": "DescriptionStyleModel",
     "state": {
      "_model_module": "@jupyter-widgets/controls",
      "_model_module_version": "1.5.0",
      "_model_name": "DescriptionStyleModel",
      "_view_count": null,
      "_view_module": "@jupyter-widgets/base",
      "_view_module_version": "1.2.0",
      "_view_name": "StyleView",
      "description_width": ""
     }
    },
    "ee0d087e5c944c1db00f694ff0a5fa2c": {
     "model_module": "@jupyter-widgets/controls",
     "model_module_version": "1.5.0",
     "model_name": "DescriptionStyleModel",
     "state": {
      "_model_module": "@jupyter-widgets/controls",
      "_model_module_version": "1.5.0",
      "_model_name": "DescriptionStyleModel",
      "_view_count": null,
      "_view_module": "@jupyter-widgets/base",
      "_view_module_version": "1.2.0",
      "_view_name": "StyleView",
      "description_width": ""
     }
    },
    "f0be48741a7f4d91980cbbb03ad64368": {
     "model_module": "@jupyter-widgets/base",
     "model_module_version": "1.2.0",
     "model_name": "LayoutModel",
     "state": {
      "_model_module": "@jupyter-widgets/base",
      "_model_module_version": "1.2.0",
      "_model_name": "LayoutModel",
      "_view_count": null,
      "_view_module": "@jupyter-widgets/base",
      "_view_module_version": "1.2.0",
      "_view_name": "LayoutView",
      "align_content": null,
      "align_items": null,
      "align_self": null,
      "border": null,
      "bottom": null,
      "display": null,
      "flex": null,
      "flex_flow": null,
      "grid_area": null,
      "grid_auto_columns": null,
      "grid_auto_flow": null,
      "grid_auto_rows": null,
      "grid_column": null,
      "grid_gap": null,
      "grid_row": null,
      "grid_template_areas": null,
      "grid_template_columns": null,
      "grid_template_rows": null,
      "height": null,
      "justify_content": null,
      "justify_items": null,
      "left": null,
      "margin": null,
      "max_height": null,
      "max_width": null,
      "min_height": null,
      "min_width": null,
      "object_fit": null,
      "object_position": null,
      "order": null,
      "overflow": null,
      "overflow_x": null,
      "overflow_y": null,
      "padding": null,
      "right": null,
      "top": null,
      "visibility": null,
      "width": null
     }
    }
   }
  }
 },
 "nbformat": 4,
 "nbformat_minor": 1
}
